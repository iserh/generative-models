{
 "cells": [
  {
   "cell_type": "markdown",
   "metadata": {
    "id": "uU1WA1dXVK40"
   },
   "source": [
    "# Using VAEs as a Data Augmentation Technic\n",
    "## Observations\n",
    " - Slightly improves f1-scores in few-shot scenarios\n",
    " - only yields improvments when generated samples do NOT dominate the original samples, i.e. do not generate more examples than the original dataset holds!\n",
    " - for non-few-shot scenarios the augmentation leads to faster and more stable convergence but not to an overall better performance of the model\n",
    " - often the f1-scores tend to rise faster when using additional generated data espiacially in early stages of training (first ~100 steps)\n",
    " - it seems like one cannot train the VAEs enough. The longer the better, which is weird because usually this means that the generated samples are very close to the original ones used for training"
   ]
  },
  {
   "cell_type": "code",
   "execution_count": null,
   "metadata": {},
   "outputs": [],
   "source": [
    "%pylab inline"
   ]
  },
  {
   "cell_type": "code",
   "execution_count": null,
   "metadata": {
    "colab": {
     "base_uri": "https://localhost:8080/"
    },
    "executionInfo": {
     "elapsed": 2358,
     "status": "ok",
     "timestamp": 1616202381184,
     "user": {
      "displayName": "Niclas Doll",
      "photoUrl": "",
      "userId": "03509535029183763642"
     },
     "user_tz": -60
    },
    "id": "sscYoToTCo9r",
    "outputId": "e218a805-e9dc-4782-d71f-cc10a204b317"
   },
   "outputs": [],
   "source": [
    "import torch\n",
    "import torch.nn as nn\n",
    "import torch.nn.functional as F\n",
    "from sklearn.metrics import accuracy_score, f1_score\n",
    "from sklearn.decomposition import PCA\n",
    "from tqdm.notebook import trange, tqdm\n",
    "from pathlib import Path\n",
    "import pandas as pd\n",
    "import random\n",
    "from torchvision.datasets import MNIST\n",
    "import torchvision.utils as vutils\n",
    "import torchvision.transforms as transforms\n",
    "from mnist_model import VAE"
   ]
  },
  {
   "cell_type": "code",
   "execution_count": null,
   "metadata": {
    "id": "5SajoGzlth5T"
   },
   "outputs": [],
   "source": [
    "# set seed\n",
    "model_seed = 936\n",
    "data_seed =  83\n",
    "# set cudnn backend to be deterministic\n",
    "torch.backends.cudnn.deterministic = True\n",
    "# utility function for seeding\n",
    "def seed_everything(seed):\n",
    "    random.seed(seed)\n",
    "    np.random.seed(seed)\n",
    "    torch.manual_seed(seed)\n",
    "    torch.cuda.manual_seed(seed)\n",
    "# for plotting\n",
    "def ordering(rows, cols):\n",
    "    # this permutation is used for ordering the images - for visualization purpose\n",
    "    return torch.cat([torch.LongTensor([i + rows * j for j in range(cols)]) for i in range(rows)], dim=0)"
   ]
  },
  {
   "cell_type": "markdown",
   "metadata": {
    "id": "zy65e-d2GHfc"
   },
   "source": [
    "## Hyperparameters"
   ]
  },
  {
   "cell_type": "code",
   "execution_count": null,
   "metadata": {
    "colab": {
     "base_uri": "https://localhost:8080/"
    },
    "executionInfo": {
     "elapsed": 2322,
     "status": "ok",
     "timestamp": 1616202381187,
     "user": {
      "displayName": "Niclas Doll",
      "photoUrl": "",
      "userId": "03509535029183763642"
     },
     "user_tz": -60
    },
    "id": "MYVXwZ18GGbo",
    "outputId": "98d13e90-f680-47dd-cbec-a1398f7ce5ce"
   },
   "outputs": [],
   "source": [
    "# data hyperparameters\n",
    "n_originals_per_class =     5\n",
    "n_generated_per_class =     5\n",
    "# vae hyperparamters\n",
    "vae_z_dim =                 50\n",
    "vae_beta =                  1.00\n",
    "# gc hyperparameters\n",
    "gc_training_steps =         800\n",
    "gc_batch_size =             16\n",
    "gc_std =                    1.00\n",
    "gen_std =                   1\n",
    "# cnn model hyperparameters\n",
    "cls_training_steps =        2000\n",
    "cls_batch_size =            32\n",
    "cls_eval_interval =         20"
   ]
  },
  {
   "cell_type": "code",
   "execution_count": null,
   "metadata": {},
   "outputs": [],
   "source": [
    "# cuda\n",
    "device = 'cuda:0' if torch.cuda.is_available() else 'cpu'\n",
    "print(\"Using device:\", device)\n",
    "# output dir for plots\n",
    "plot_dir = Path(f\"../plots/MNIST/runs/{n_originals_per_class}-{n_generated_per_class}-{vae_z_dim}-{vae_beta}-{gc_training_steps}-{gc_batch_size}-{gc_std}-{gen_std}-{cls_training_steps}-{cls_batch_size}-{cls_eval_interval}\")\n",
    "plot_root = Path(f\"../plots/MNIST\")\n",
    "plot_root.mkdir(exist_ok=True, parents=True)\n",
    "plot_dir.mkdir(exist_ok=True, parents=True)"
   ]
  },
  {
   "cell_type": "markdown",
   "metadata": {
    "id": "ReYQBOlYDhKI"
   },
   "source": [
    "## Data Preparation\n"
   ]
  },
  {
   "cell_type": "code",
   "execution_count": null,
   "metadata": {
    "id": "MZ33Tc-wFJlf"
   },
   "outputs": [],
   "source": [
    "# load mnist\n",
    "mnist_train = MNIST(\n",
    "    root=\"~/torch_datasets\",\n",
    "    transform=transforms.ToTensor(),\n",
    "    train=True,\n",
    ")\n",
    "mnist_test = MNIST(\n",
    "    root=\"~/torch_datasets\",\n",
    "    transform=transforms.ToTensor(),\n",
    "    train=False,\n",
    ")\n",
    "\n",
    "# extract test data\n",
    "x_test, y_test = zip(*[(x, y) for x, y in torch.utils.data.DataLoader(mnist_test, batch_size=512, num_workers=4)])\n",
    "x_test, y_test = torch.cat(x_test, dim=0), torch.cat(y_test, dim=0)\n",
    "\n",
    "# extract train data\n",
    "x_train, y_train = zip(*[(x, y) for x, y in torch.utils.data.DataLoader(mnist_train, batch_size=512, num_workers=4)])\n",
    "x_train, y_train = torch.cat(x_train, dim=0), torch.cat(y_train, dim=0)\n",
    "\n",
    "# remember the shape of the data\n",
    "input_shape = x_train.shape[1:]\n",
    "n_classes = len(np.unique(y_train))\n",
    "\n",
    "# separate train data into the different classes\n",
    "train_per_label = [x_train[y_train == i] for i in range(n_classes)]\n",
    "\n",
    "# following data operations include random permutations so seed everything\n",
    "seed_everything(data_seed)\n",
    "# reduce training size\n",
    "train_per_label = [X[np.random.permutation(X.size(0))[:n_originals_per_class]] for X in train_per_label]"
   ]
  },
  {
   "cell_type": "markdown",
   "metadata": {
    "id": "f3AzNZKIDEcU"
   },
   "source": [
    "## Variational Auto-Encoder"
   ]
  },
  {
   "cell_type": "code",
   "execution_count": null,
   "metadata": {},
   "outputs": [],
   "source": [
    "vae = VAE.load_from_checkpoint(\"mnist_checkpoints/beta=1.0/epoch=99-step=93799.ckpt\",\n",
    "    input_size=np.prod(input_shape), z_dim=vae_z_dim, beta=vae_beta\n",
    ").eval()\n",
    "early_vae = VAE.load_from_checkpoint(\"mnist_checkpoints/beta=1.0/epoch=24-step=23449.ckpt\",\n",
    "    input_size=np.prod(input_shape), z_dim=vae_z_dim, beta=vae_beta\n",
    ").eval()"
   ]
  },
  {
   "cell_type": "code",
   "execution_count": null,
   "metadata": {},
   "outputs": [],
   "source": [
    "def generate_examples(n):\n",
    "    seed_everything(data_seed)\n",
    "    global vae\n",
    "    # work on device\n",
    "    vae.to(device)\n",
    "    with torch.no_grad():\n",
    "        z_per_label, log_v_per_label = [*zip(*[vae.encoder(x.to(device)) for x in train_per_label])]\n",
    "        z_per_label, log_v_per_label = torch.stack(z_per_label, dim=0).cpu(), torch.stack(log_v_per_label, dim=0).cpu()\n",
    "    \n",
    "    # generate some samples\n",
    "    rand_idx = torch.randint(0, n_originals_per_class, size=(n_classes, n))\n",
    "    z_rand_per_label = torch.stack([z[idx] for z, idx in (zip(z_per_label, rand_idx))], dim=0)\n",
    "    log_v_rand_per_label = torch.stack([log_v[idx] for log_v, idx in (zip(log_v_per_label, rand_idx))], dim=0)\n",
    "    \n",
    "    if gen_std:\n",
    "        z_rand_per_label = torch.empty_like(z_rand_per_label).normal_(0, gen_std) + z_rand_per_label\n",
    "    else:\n",
    "        z_rand_per_label = torch.normal(z_rand_per_label, log_v_rand_per_label.exp().sqrt())\n",
    "\n",
    "    # build a dataset with both the original samples\n",
    "    # and also some generated ones using the vaes\n",
    "    z_rand_ds = torch.utils.data.TensorDataset(z_rand_per_label)\n",
    "    generated_per_label = []\n",
    "    with torch.no_grad():\n",
    "        for (z_rand_per_label,) in torch.utils.data.DataLoader(z_rand_ds, batch_size=512):\n",
    "            generated_per_label.append(torch.stack([\n",
    "                vae.decoder.forward(z_rand.to(device))\n",
    "                for z_rand in z_rand_per_label\n",
    "            ], dim=0))\n",
    "    # move vae back to cpu\n",
    "    vae.to('cpu')\n",
    "    return [torch.cat([*gen], dim=0).cpu() for gen in zip(*generated_per_label)]"
   ]
  },
  {
   "cell_type": "markdown",
   "metadata": {},
   "source": [
    "#### Visualize the Feature Space"
   ]
  },
  {
   "cell_type": "code",
   "execution_count": null,
   "metadata": {},
   "outputs": [],
   "source": [
    "dl = torch.utils.data.DataLoader(torch.utils.data.TensorDataset(x_test, y_test), batch_size=512)\n",
    "with torch.no_grad():\n",
    "    z, y = [*zip(*[(vae.encoder(x)[0], y) for x, y in tqdm(dl)])]\n",
    "    z, y = torch.cat(z, dim=0).cpu(), torch.cat(y, dim=0).cpu()\n",
    "\n",
    "figure(tight_layout=True, figsize=(5, 5))\n",
    "for i in range(n_classes):\n",
    "    scatter(*PCA(2).fit_transform(z[y == i]).T, s=2, label=i)\n",
    "legend()\n",
    "savefig(plot_dir / f\"feature_space.pdf\")\n",
    "show()"
   ]
  },
  {
   "cell_type": "markdown",
   "metadata": {},
   "source": [
    "#### Visualize some generated images"
   ]
  },
  {
   "cell_type": "code",
   "execution_count": null,
   "metadata": {
    "colab": {
     "base_uri": "https://localhost:8080/",
     "height": 595
    },
    "executionInfo": {
     "elapsed": 69948,
     "status": "ok",
     "timestamp": 1616202448885,
     "user": {
      "displayName": "Niclas Doll",
      "photoUrl": "",
      "userId": "03509535029183763642"
     },
     "user_tz": -60
    },
    "id": "fdykw3rxM7Td",
    "outputId": "bb428a1f-2ca4-4d94-986e-ea642add44a4"
   },
   "outputs": [],
   "source": [
    "# original images\n",
    "orig_img = torch.cat([x[:10] for x in train_per_label], dim=0)\n",
    "\n",
    "x_gen = torch.cat(generate_examples(10), dim=0)\n",
    "\n",
    "# plot original and fake images\n",
    "figure(tight_layout=True, figsize=(10, 5))\n",
    "subplot(121)\n",
    "axis(\"off\")\n",
    "title(\"Original\")\n",
    "imshow(\n",
    "    np.transpose(\n",
    "        vutils.make_grid(orig_img[ordering(min(n_originals_per_class, 10), n_classes)], padding=5, normalize=True, nrow=10),\n",
    "        (1, 2, 0),\n",
    "    ),\n",
    ")\n",
    "subplot(122)\n",
    "axis(\"off\")\n",
    "title(\"Fake\")\n",
    "imshow(\n",
    "    np.transpose(\n",
    "        vutils.make_grid(x_gen[ordering(min(n_originals_per_class, 10), n_classes)], padding=5, normalize=True, nrow=10),\n",
    "        (1, 2, 0),\n",
    "    ),\n",
    ")\n",
    "savefig(plot_dir / \"original-fake.pdf\")\n",
    "show()"
   ]
  },
  {
   "cell_type": "markdown",
   "metadata": {
    "id": "RJUyOIioryPA"
   },
   "source": [
    "## Generative Classifier"
   ]
  },
  {
   "cell_type": "code",
   "execution_count": null,
   "metadata": {
    "executionInfo": {
     "elapsed": 154535,
     "status": "ok",
     "timestamp": 1616205190703,
     "user": {
      "displayName": "Niclas Doll",
      "photoUrl": "",
      "userId": "03509535029183763642"
     },
     "user_tz": -60
    },
    "id": "iwJbOiSO85_I"
   },
   "outputs": [],
   "source": [
    "class GenerativeClassifier(nn.Module):\n",
    "    def __init__(self):\n",
    "        super(GenerativeClassifier, self).__init__()\n",
    "        self.conv1 = nn.Conv2d(1, 2, kernel_size=5)\n",
    "        self.conv2 = nn.Conv2d(2, 4, kernel_size=5)\n",
    "        self.conv2_drop = nn.Dropout2d()\n",
    "        self.fc1 = nn.Linear(4 * 4 * 4, 8)\n",
    "        self.fc2 = nn.Linear(8, 1)\n",
    "    def forward(self, x):\n",
    "        x = F.relu(F.max_pool2d(self.conv1(x), 2))\n",
    "        x = F.relu(F.max_pool2d(self.conv2_drop(self.conv2(x)), 2))\n",
    "        x = x.view(-1, 4 * 4 * 4)\n",
    "        x = F.relu(self.fc1(x))\n",
    "        x = F.dropout(x, training=self.training)\n",
    "        x = self.fc2(x)\n",
    "        return torch.sigmoid(x)"
   ]
  },
  {
   "cell_type": "markdown",
   "metadata": {},
   "source": [
    "### Generating the data for GC Training"
   ]
  },
  {
   "cell_type": "code",
   "execution_count": null,
   "metadata": {
    "executionInfo": {
     "elapsed": 154540,
     "status": "ok",
     "timestamp": 1616205190710,
     "user": {
      "displayName": "Niclas Doll",
      "photoUrl": "",
      "userId": "03509535029183763642"
     },
     "user_tz": -60
    },
    "id": "4CGf9xo49M20"
   },
   "outputs": [],
   "source": [
    "# seed before generating the noisy examples for training the generative classifier\n",
    "seed_everything(data_seed)\n",
    "\n",
    "# build dataset of fake and real samples\n",
    "real_x = torch.cat(train_per_label, dim=0)\n",
    "with torch.no_grad():\n",
    "    # create random latents outside the normal distribution (0, 1)\n",
    "    z_rand = torch.empty((n_classes, n_originals_per_class, vae_z_dim)).normal_(0, gc_std)\n",
    "    fake_x = torch.cat([\n",
    "        early_vae.decoder.forward(z)\n",
    "        for z in z_rand\n",
    "    ], dim=0)\n",
    "    \n",
    "# create labels\n",
    "real_y = torch.ones(real_x.size(0))\n",
    "fake_y = torch.zeros(fake_x.size(0))\n",
    "# pack into dataset\n",
    "gc_dataset = torch.utils.data.TensorDataset(\n",
    "    torch.cat((real_x, fake_x), dim=0),\n",
    "    torch.cat((real_y, fake_y), dim=0)\n",
    ")\n",
    "\n",
    "# visualize the latents used for generating noisy examples\n",
    "figure(figsize=(20, 10), tight_layout=True)\n",
    "subplot(121)\n",
    "title(\"Noisy Latents\")\n",
    "scatter(*PCA(2).fit_transform(z_rand.view(-1, vae_z_dim)).T)\n",
    "\n",
    "subplot(122)\n",
    "title(\"Noisy examples\")\n",
    "axis(\"off\")\n",
    "imshow(\n",
    "    np.transpose(\n",
    "        vutils.make_grid(fake_x[:100][ordering(min(n_originals_per_class, 10), n_classes)], padding=5, normalize=True, nrow=10),\n",
    "        (1, 2, 0),\n",
    "    ),\n",
    ")\n",
    "show()"
   ]
  },
  {
   "cell_type": "markdown",
   "metadata": {},
   "source": [
    "### Training the Generative Classifier"
   ]
  },
  {
   "cell_type": "code",
   "execution_count": null,
   "metadata": {
    "colab": {
     "base_uri": "https://localhost:8080/",
     "height": 67,
     "referenced_widgets": [
      "a972984f1f5c43fd82c5d0ff87822454",
      "c1ec791a58b94b7da5e4046e20ea90d6",
      "c7f58b5557f94996a925aec4bd0bf9cd",
      "436e7d697a2949c48c970119fd81ff5b",
      "909c50aa83634815ae91d4656d2872c6",
      "91f1d71c75c64f77935b9788c67fc4bb",
      "8bc87362b0b74944bdc72eeedd563528",
      "5776f687206f45618eb891f568449b42"
     ]
    },
    "executionInfo": {
     "elapsed": 157027,
     "status": "ok",
     "timestamp": 1616205193214,
     "user": {
      "displayName": "Niclas Doll",
      "photoUrl": "",
      "userId": "03509535029183763642"
     },
     "user_tz": -60
    },
    "id": "NSrt8XQY-_qd",
    "outputId": "7896e672-2f8c-47ee-ced1-bee93f12e39b"
   },
   "outputs": [],
   "source": [
    "# seed before training the generative classifier\n",
    "seed_everything(model_seed)\n",
    "\n",
    "# train generative classifier\n",
    "gc = GenerativeClassifier()\n",
    "gc.to(device).train()\n",
    "optim = torch.optim.Adam(gc.parameters())\n",
    "\n",
    "seed_everything(data_seed)\n",
    "t = trange(gc_training_steps)\n",
    "for i in t:\n",
    "    # get batch to train on\n",
    "    batch_idx = np.random.randint(0, len(gc_dataset), gc_batch_size)\n",
    "    x, y_hat = gc_dataset[batch_idx]\n",
    "    # apply model and compute loss\n",
    "    y = gc.forward(x.to(device)).flatten()\n",
    "    loss = F.binary_cross_entropy(y, y_hat.to(device))  # + 0.05 * (1 - y).mean()\n",
    "    # update model parameters\n",
    "    optim.zero_grad()\n",
    "    loss.backward()\n",
    "    optim.step()\n",
    "\n",
    "# move classifier back to cpu\n",
    "# and set it into evaluation mode\n",
    "gc = gc.to('cpu').eval()"
   ]
  },
  {
   "cell_type": "markdown",
   "metadata": {},
   "source": [
    "#### Visualize the behaviour of the Generative Classifier"
   ]
  },
  {
   "cell_type": "code",
   "execution_count": null,
   "metadata": {
    "colab": {
     "base_uri": "https://localhost:8080/",
     "height": 607
    },
    "executionInfo": {
     "elapsed": 158170,
     "status": "ok",
     "timestamp": 1616205194374,
     "user": {
      "displayName": "Niclas Doll",
      "photoUrl": "",
      "userId": "03509535029183763642"
     },
     "user_tz": -60
    },
    "id": "O-KkRLZMCjEY",
    "outputId": "dcc6c504-8b39-43a0-b2e1-02a8bdfe8f6a",
    "scrolled": false
   },
   "outputs": [],
   "source": [
    "seed_everything(data_seed)\n",
    "\n",
    "x_gen = torch.cat(generate_examples(50), dim=0)\n",
    "with torch.no_grad():\n",
    "    # apply generative classifier\n",
    "    mask = gc.forward(x_gen) > 0.5\n",
    "# convert to numpy\n",
    "x_gen = x_gen\n",
    "mask = mask\n",
    "# apply mask\n",
    "x_good, x_bad = x_gen.clone(), x_gen.clone()\n",
    "x_good[~mask], x_bad[mask] = 0, 0\n",
    "\n",
    "# visualize the choice of\n",
    "# the generative classifier\n",
    "figure(figsize=(5, 13), tight_layout=True)\n",
    "subplot(121)\n",
    "axis(\"off\")\n",
    "title(\"Good Samples\")\n",
    "imshow(\n",
    "    np.transpose(\n",
    "        vutils.make_grid(x_good[ordering(50, n_classes)], padding=5, normalize=True, nrow=10),\n",
    "        (1, 2, 0),\n",
    "    ),\n",
    ")\n",
    "subplot(122)\n",
    "axis(\"off\")\n",
    "title(\"Bad Samples\")\n",
    "imshow(\n",
    "    np.transpose(\n",
    "        vutils.make_grid(x_bad[ordering(50, n_classes)], padding=5, normalize=True, nrow=10),\n",
    "        (1, 2, 0),\n",
    "    ),\n",
    ")\n",
    "show()"
   ]
  },
  {
   "cell_type": "markdown",
   "metadata": {
    "id": "N3ulIbhveUyz"
   },
   "source": [
    "## Classification Task"
   ]
  },
  {
   "cell_type": "code",
   "execution_count": null,
   "metadata": {
    "cellView": "code",
    "id": "AoLYwR6KRnD5"
   },
   "outputs": [],
   "source": [
    "class Classifier(nn.Module):\n",
    "    def __init__(self):\n",
    "        super().__init__()\n",
    "        self.conv1 = nn.Conv2d(1, 8, kernel_size=5)\n",
    "        self.conv2 = nn.Conv2d(8, 16, kernel_size=5)\n",
    "        self.conv2_drop = nn.Dropout2d()\n",
    "        self.fc1 = nn.Linear(4 * 4 * 16, 64)\n",
    "        self.fc2 = nn.Linear(64, 10)\n",
    "    def forward(self, x):\n",
    "        x = F.relu(F.max_pool2d(self.conv1(x), 2))\n",
    "        x = F.relu(F.max_pool2d(self.conv2_drop(self.conv2(x)), 2))\n",
    "        x = x.view(-1, 4 * 4 * 16)\n",
    "        x = F.relu(self.fc1(x))\n",
    "        x = F.dropout(x, training=self.training)\n",
    "        x = self.fc2(x)\n",
    "        return F.log_softmax(x, dim=-1)"
   ]
  },
  {
   "cell_type": "markdown",
   "metadata": {
    "id": "JaHLMlOvfhxB"
   },
   "source": [
    "### Training script for the Classification Model"
   ]
  },
  {
   "cell_type": "code",
   "execution_count": null,
   "metadata": {
    "id": "7E15yEHmSD9y"
   },
   "outputs": [],
   "source": [
    "def train_classifier(dataset):\n",
    "    seed_everything(model_seed)\n",
    "    # create a cnn model\n",
    "    model = Classifier()\n",
    "    # move model to device and set\n",
    "    # it in train mode\n",
    "    model.to(device).train()\n",
    "    optim = torch.optim.Adam(model.parameters())\n",
    "    # values we want to track\n",
    "    train_losses, test_losses = [], []\n",
    "    weighted_f1_scores, acc_scores = [], []\n",
    "    \n",
    "    seed_everything(data_seed)\n",
    "    # train loop\n",
    "    t = trange(cls_training_steps)\n",
    "    for i in t:\n",
    "        # get batch to train from\n",
    "        x_idx = np.random.randint(0, len(dataset), cls_batch_size)\n",
    "        x, y_hat = dataset[x_idx]\n",
    "        # apply model and compute loss\n",
    "        y = model.forward(x.to(device))\n",
    "        loss = F.nll_loss(y, y_hat.to(device))\n",
    "        # update model parameters\n",
    "        optim.zero_grad()\n",
    "        loss.backward()\n",
    "        optim.step()\n",
    "        # add loss value to list\n",
    "        train_losses.append(loss.item())\n",
    "\n",
    "        if (i % cls_eval_interval == 0):\n",
    "            # evaluate model\n",
    "            model.eval()\n",
    "            with torch.no_grad():\n",
    "                # apply model to test data\n",
    "                y = model.forward(x_test.to(device))\n",
    "                loss = F.nll_loss(y, y_test.to(device))\n",
    "                # add loss to list\n",
    "                test_losses.append(loss.item())\n",
    "                # get predictions and compute f1-scores\n",
    "                y_pred = y.argmax(-1).cpu().numpy()\n",
    "                weighted_f1_scores.append(f1_score(y_test.numpy(), y_pred, average='weighted'))\n",
    "                acc_scores.append(accuracy_score(y_test.numpy(), y_pred))\n",
    "            # back to training the model\n",
    "            model.train()\n",
    "    # move model back to cpu and\n",
    "    # set it to evaluation mode\n",
    "    model.to('cpu').eval()\n",
    "    # return model and tracked values\n",
    "    return model, {\n",
    "        'train-losses': train_losses, \n",
    "        'test-losses':  test_losses, \n",
    "        'weighted-f1':  weighted_f1_scores, \n",
    "        'acc':          acc_scores\n",
    "    }"
   ]
  },
  {
   "cell_type": "markdown",
   "metadata": {
    "id": "dTEdcDSwfn0g"
   },
   "source": [
    "## Training Classification models\n",
    "Here we train three models, i.e.\n",
    " - one trained on only the originally provided (reduced!) dataset\n",
    " - one trained on the original together with some generated samples\n",
    " - and one where the generated examples are filtered by the generative classifier"
   ]
  },
  {
   "cell_type": "markdown",
   "metadata": {},
   "source": [
    "### Baseline"
   ]
  },
  {
   "cell_type": "code",
   "execution_count": null,
   "metadata": {
    "colab": {
     "base_uri": "https://localhost:8080/",
     "height": 370,
     "referenced_widgets": [
      "985ebec895ba441a8f786bd409d086d0",
      "79cc7fb2e84b48b48a11d37163b08b18",
      "6371c0f1ffe1489595430e9ab4f4b866",
      "cd203147986b4b7e9bcdb3595f4eb2f0",
      "53a43d96fc6c490895ff9a7fd8fa0440",
      "bf604a4721284d47bb5ee491e3099a7a",
      "44c3670e60d14762853ac2e15cef2381",
      "6431cfab14604b0db2474dbd760f5dcd"
     ]
    },
    "executionInfo": {
     "elapsed": 90574,
     "status": "ok",
     "timestamp": 1616202469645,
     "user": {
      "displayName": "Niclas Doll",
      "photoUrl": "",
      "userId": "03509535029183763642"
     },
     "user_tz": -60
    },
    "id": "ldIkEdrgc3Cl",
    "outputId": "d473f1cf-3c6f-4144-ce10-f589dff3af45"
   },
   "outputs": [],
   "source": [
    "# build dataset of only the original samples\n",
    "orig_train_dataset = torch.utils.data.TensorDataset(\n",
    "    torch.FloatTensor(np.concatenate(train_per_label, axis=0)),\n",
    "    torch.LongTensor(np.concatenate([\n",
    "        (np.zeros(X.shape[0]) + i) for i, X in enumerate(train_per_label)\n",
    "    ], axis=0))\n",
    ")\n",
    "# train model on dataset\n",
    "model_orig, metrics_orig = train_classifier(orig_train_dataset)\n",
    "# plot the losses\n",
    "figure(figsize=(10, 5))\n",
    "grid()\n",
    "plot(metrics_orig['train-losses'], label='train')\n",
    "ticks = [i * cls_eval_interval for i in range(len(metrics_orig['test-losses']))]\n",
    "plot(ticks, metrics_orig['test-losses'], label='test')\n",
    "legend()\n",
    "savefig(plot_dir / \"classifier_loss_orig.pdf\")\n",
    "show()"
   ]
  },
  {
   "cell_type": "markdown",
   "metadata": {},
   "source": [
    "### With generated data"
   ]
  },
  {
   "cell_type": "code",
   "execution_count": null,
   "metadata": {
    "colab": {
     "base_uri": "https://localhost:8080/",
     "height": 370,
     "referenced_widgets": [
      "fb7d4fb5d11f46c6b8f351a04699d0bb",
      "c4be43f13de34e95a70b57fe16f85060",
      "31e453cac5dc4001a4e812920d44ee28",
      "edefdc2862c741cfa6e953bdb4a148e7",
      "1df1a60871f945259792d81b045cb61a",
      "3c0e823ce8694f93a54ca81bb89182a7",
      "25ee0b81be90427fb3bc86137eed9b68",
      "54d9f65453294fd3ba1733ecfa360418"
     ]
    },
    "executionInfo": {
     "elapsed": 108246,
     "status": "ok",
     "timestamp": 1616202487348,
     "user": {
      "displayName": "Niclas Doll",
      "photoUrl": "",
      "userId": "03509535029183763642"
     },
     "user_tz": -60
    },
    "id": "RV5S9V_MX2DY",
    "outputId": "2fd046a3-b1a7-4db0-f9d1-d1f989463573"
   },
   "outputs": [],
   "source": [
    "generated_per_label = [gen.numpy() for gen in generate_examples(n_generated_per_class)]\n",
    "# full_train_x = generated_per_label\n",
    "# create a combined dataset from the original and generated samples\n",
    "full_train_x = [\n",
    "    np.concatenate(both, axis=0)\n",
    "    for both in zip(train_per_label, generated_per_label)\n",
    "]\n",
    "full_train_y = [\n",
    "    (np.zeros(X.shape[:1]) + i) \n",
    "    for i, X in enumerate(full_train_x)\n",
    "]\n",
    "# pack all of this in a dataset\n",
    "full_train_dataset = torch.utils.data.TensorDataset(\n",
    "    torch.FloatTensor(np.concatenate(full_train_x, axis=0)),\n",
    "    torch.LongTensor(np.concatenate(full_train_y, axis=0))\n",
    ")\n",
    "# train model on both original and generated data\n",
    "model_gen, metrics_gen = train_classifier(full_train_dataset)\n",
    "# plot training and test losses\n",
    "figure(figsize=(10, 5))\n",
    "grid()\n",
    "plot(metrics_gen['train-losses'], label='train')\n",
    "ticks = [i * cls_eval_interval for i in range(len(metrics_gen['test-losses']))]\n",
    "plot(ticks, metrics_gen['test-losses'], label='test')\n",
    "legend()\n",
    "savefig(plot_dir / \"classifier_loss_full.pdf\")\n",
    "show()"
   ]
  },
  {
   "cell_type": "markdown",
   "metadata": {},
   "source": [
    "### With generated data filtered by Generative Classifier"
   ]
  },
  {
   "cell_type": "code",
   "execution_count": null,
   "metadata": {
    "id": "356sSFl1DNij"
   },
   "outputs": [],
   "source": [
    "generated_per_label = generate_examples(n_generated_per_class * 10)\n",
    "\n",
    "gc.to(device)\n",
    "with torch.no_grad():\n",
    "    # apply generative classifier\n",
    "    masks_per_label = [\n",
    "        gc.forward(x_gen.to(device)).flatten() > 0.5\n",
    "        for x_gen in generated_per_label\n",
    "    ]\n",
    "gc.to('cpu')\n",
    "\n",
    "generated_per_label = [\n",
    "    x_gen[mask, ...].numpy()[:n_generated_per_class, ...]\n",
    "    for x_gen, mask in zip(generated_per_label, masks_per_label)\n",
    "]\n",
    "print(f\"Generated Examples: {[len(X) for X in generated_per_label]}\")\n",
    "\n",
    "# full_train_x = generated_per_label\n",
    "# create a combined dataset from the original and generated samples\n",
    "full_train_x = [\n",
    "    np.concatenate(both, axis=0)\n",
    "    for both in zip(train_per_label, generated_per_label)\n",
    "]\n",
    "# full_train_x = generated_per_label\n",
    "full_train_y = [\n",
    "    (np.zeros(X.shape[:1]) + i) \n",
    "    for i, X in enumerate(full_train_x)\n",
    "]\n",
    "# pack all of this in a dataset\n",
    "full_train_dataset = torch.utils.data.TensorDataset(\n",
    "    torch.FloatTensor(np.concatenate(full_train_x, axis=0)),\n",
    "    torch.LongTensor(np.concatenate(full_train_y, axis=0))\n",
    ")\n",
    "# train model on both original and generated data\n",
    "model_gen_gc, metrics_gen_gc = train_classifier(full_train_dataset)\n",
    "# plot training and test losses\n",
    "figure(figsize=(10, 5))\n",
    "grid()\n",
    "plot(metrics_gen_gc['train-losses'], label='train')\n",
    "ticks = [i * cls_eval_interval for i in range(len(metrics_gen_gc['test-losses']))]\n",
    "plot(ticks, metrics_gen_gc['test-losses'], label='test')\n",
    "legend()\n",
    "show()"
   ]
  },
  {
   "cell_type": "markdown",
   "metadata": {
    "id": "VzUwQdu6fZSE"
   },
   "source": [
    "## Evaluating the Models"
   ]
  },
  {
   "cell_type": "code",
   "execution_count": null,
   "metadata": {},
   "outputs": [],
   "source": [
    "df_results = pd.DataFrame.from_dict({\n",
    "    \"model_seed\": [model_seed],\n",
    "    \"data_seed\": [data_seed],\n",
    "    \"n_originals_per_class\": [n_originals_per_class],\n",
    "    \"n_generated_per_class\": [n_generated_per_class],\n",
    "    \"vae_z_dim\": [vae_z_dim],\n",
    "    \"vae_beta\": [vae_beta],\n",
    "    \"gc_training_steps\": [gc_training_steps],\n",
    "    \"gc_batch_size\": [gc_batch_size],\n",
    "    \"gc_std\": [gc_std],\n",
    "    \"gen_std\": [gen_std],\n",
    "    \"cls_training_steps\": [cls_training_steps],\n",
    "    \"cls_batch_size\": [cls_batch_size],\n",
    "    \"cls_eval_interval\": [cls_eval_interval],\n",
    "    \"f1-orig\": [round(max(metrics_orig[\"weighted-f1\"]), 4)],\n",
    "    \"f1-gen\": [round(max(metrics_gen[\"weighted-f1\"]), 4)],\n",
    "    \"f1-gen+gc\": [round(max(metrics_gen_gc[\"weighted-f1\"]), 4)],\n",
    "    \"acc-orig\": [round(max(metrics_orig[\"acc\"]), 4)],\n",
    "    \"acc-gen\": [round(max(metrics_gen[\"acc\"]), 4)],\n",
    "    \"acc-gen+gc\": [round(max(metrics_gen_gc[\"acc\"]), 4)],\n",
    "})"
   ]
  },
  {
   "cell_type": "markdown",
   "metadata": {},
   "source": [
    "### Comparison of the accuracy"
   ]
  },
  {
   "cell_type": "code",
   "execution_count": null,
   "metadata": {},
   "outputs": [],
   "source": [
    "# also plot\n",
    "figure(tight_layout=True, figsize=(10, 5))\n",
    "grid()\n",
    "plot(metrics_orig[\"acc\"], label=\"w/o gen\")\n",
    "plot(metrics_gen[\"acc\"], label=\"w/ gen\")\n",
    "plot(metrics_gen_gc[\"acc\"], label=\"w/ gen+gc\")\n",
    "legend()\n",
    "savefig(plot_dir / \"accuracies_graph.pdf\")\n",
    "show()\n",
    "df_results[[\"acc-orig\", \"acc-gen\", \"acc-gen+gc\"]]"
   ]
  },
  {
   "cell_type": "markdown",
   "metadata": {},
   "source": [
    "### Comparison of the F1-Scores"
   ]
  },
  {
   "cell_type": "code",
   "execution_count": null,
   "metadata": {},
   "outputs": [],
   "source": [
    "# also plot\n",
    "figure(tight_layout=True, figsize=(10, 5))\n",
    "grid()\n",
    "plot(metrics_orig[\"weighted-f1\"], label=\"w/o gen\")\n",
    "plot(metrics_gen[\"weighted-f1\"], label=\"w/ gen\")\n",
    "plot(metrics_gen_gc[\"weighted-f1\"], label=\"w/ gen+gc\")\n",
    "legend()\n",
    "savefig(plot_dir / \"weighted_f1_graph.pdf\")\n",
    "show()\n",
    "df_results[[\"f1-orig\", \"f1-gen\", \"f1-gen+gc\"]]"
   ]
  },
  {
   "cell_type": "markdown",
   "metadata": {},
   "source": [
    "## Save Results to disk"
   ]
  },
  {
   "cell_type": "code",
   "execution_count": null,
   "metadata": {},
   "outputs": [],
   "source": [
    "# append results to csv file\n",
    "results_path = plot_root / \"results.csv\"\n",
    "if results_path.exists():\n",
    "    df_saved = pd.read_csv(results_path, index_col=0, header=None).T\n",
    "    df_results = pd.concat([df_saved, df_results])\n",
    "df_results.T.to_csv(results_path, header=False)"
   ]
  },
  {
   "cell_type": "code",
   "execution_count": null,
   "metadata": {},
   "outputs": [],
   "source": [
    "# save the notebook and export html file to plot directory\n",
    "import time\n",
    "from IPython.display import display, Javascript\n",
    "import hashlib\n",
    "\n",
    "def save_notebook(file_path):\n",
    "    start_md5 = hashlib.md5(open(file_path,'rb').read()).hexdigest()\n",
    "    display(Javascript('IPython.notebook.save_checkpoint();'))\n",
    "    current_md5 = start_md5\n",
    "    \n",
    "    while start_md5 == current_md5:\n",
    "        time.sleep(1)\n",
    "        current_md5 = hashlib.md5(open(file_path,'rb').read()).hexdigest()\n",
    "\n",
    "from nbconvert import HTMLExporter\n",
    "import codecs\n",
    "import nbformat\n",
    "\n",
    "notebook_name = 'MNIST-SINGLE.ipynb'\n",
    "output_file_name = plot_dir / 'output.html'\n",
    "\n",
    "save_notebook(notebook_name)\n",
    "\n",
    "exporter = HTMLExporter()\n",
    "output_notebook = nbformat.read(notebook_name, as_version=4)\n",
    "\n",
    "output, resources = exporter.from_notebook_node(output_notebook)\n",
    "codecs.open(output_file_name, 'w', encoding='utf-8').write(output)"
   ]
  }
 ],
 "metadata": {
  "accelerator": "GPU",
  "colab": {
   "authorship_tag": "ABX9TyO/+39OM8bu42YXk/Z343vy",
   "collapsed_sections": [],
   "name": "SavingHenriSeinAss_10.ipynb",
   "provenance": []
  },
  "kernelspec": {
   "display_name": "Python 3",
   "language": "python",
   "name": "python3"
  },
  "language_info": {
   "codemirror_mode": {
    "name": "ipython",
    "version": 3
   },
   "file_extension": ".py",
   "mimetype": "text/x-python",
   "name": "python",
   "nbconvert_exporter": "python",
   "pygments_lexer": "ipython3",
   "version": "3.8.0"
  },
  "widgets": {
   "application/vnd.jupyter.widget-state+json": {
    "071570fd8f7346c7a21fa3a416f0a626": {
     "model_module": "@jupyter-widgets/controls",
     "model_name": "HTMLModel",
     "state": {
      "_dom_classes": [],
      "_model_module": "@jupyter-widgets/controls",
      "_model_module_version": "1.5.0",
      "_model_name": "HTMLModel",
      "_view_count": null,
      "_view_module": "@jupyter-widgets/controls",
      "_view_module_version": "1.5.0",
      "_view_name": "HTMLView",
      "description": "",
      "description_tooltip": null,
      "layout": "IPY_MODEL_0857acc107bb4f54a5044cfd0695a5f3",
      "placeholder": "​",
      "style": "IPY_MODEL_a726fbc5b5e847eab4278a2d032d88a3",
      "value": " 800/800 [00:02&lt;00:00, 298.13it/s]"
     }
    },
    "0857acc107bb4f54a5044cfd0695a5f3": {
     "model_module": "@jupyter-widgets/base",
     "model_name": "LayoutModel",
     "state": {
      "_model_module": "@jupyter-widgets/base",
      "_model_module_version": "1.2.0",
      "_model_name": "LayoutModel",
      "_view_count": null,
      "_view_module": "@jupyter-widgets/base",
      "_view_module_version": "1.2.0",
      "_view_name": "LayoutView",
      "align_content": null,
      "align_items": null,
      "align_self": null,
      "border": null,
      "bottom": null,
      "display": null,
      "flex": null,
      "flex_flow": null,
      "grid_area": null,
      "grid_auto_columns": null,
      "grid_auto_flow": null,
      "grid_auto_rows": null,
      "grid_column": null,
      "grid_gap": null,
      "grid_row": null,
      "grid_template_areas": null,
      "grid_template_columns": null,
      "grid_template_rows": null,
      "height": null,
      "justify_content": null,
      "justify_items": null,
      "left": null,
      "margin": null,
      "max_height": null,
      "max_width": null,
      "min_height": null,
      "min_width": null,
      "object_fit": null,
      "object_position": null,
      "order": null,
      "overflow": null,
      "overflow_x": null,
      "overflow_y": null,
      "padding": null,
      "right": null,
      "top": null,
      "visibility": null,
      "width": null
     }
    },
    "1df1a60871f945259792d81b045cb61a": {
     "model_module": "@jupyter-widgets/controls",
     "model_name": "ProgressStyleModel",
     "state": {
      "_model_module": "@jupyter-widgets/controls",
      "_model_module_version": "1.5.0",
      "_model_name": "ProgressStyleModel",
      "_view_count": null,
      "_view_module": "@jupyter-widgets/base",
      "_view_module_version": "1.2.0",
      "_view_name": "StyleView",
      "bar_color": null,
      "description_width": "initial"
     }
    },
    "25ee0b81be90427fb3bc86137eed9b68": {
     "model_module": "@jupyter-widgets/controls",
     "model_name": "DescriptionStyleModel",
     "state": {
      "_model_module": "@jupyter-widgets/controls",
      "_model_module_version": "1.5.0",
      "_model_name": "DescriptionStyleModel",
      "_view_count": null,
      "_view_module": "@jupyter-widgets/base",
      "_view_module_version": "1.2.0",
      "_view_name": "StyleView",
      "description_width": ""
     }
    },
    "2df161797e624cae8d7cce1e64a428cb": {
     "model_module": "@jupyter-widgets/controls",
     "model_name": "ProgressStyleModel",
     "state": {
      "_model_module": "@jupyter-widgets/controls",
      "_model_module_version": "1.5.0",
      "_model_name": "ProgressStyleModel",
      "_view_count": null,
      "_view_module": "@jupyter-widgets/base",
      "_view_module_version": "1.2.0",
      "_view_name": "StyleView",
      "bar_color": null,
      "description_width": "initial"
     }
    },
    "2e566d7163b64637997322bb8f747502": {
     "model_module": "@jupyter-widgets/base",
     "model_name": "LayoutModel",
     "state": {
      "_model_module": "@jupyter-widgets/base",
      "_model_module_version": "1.2.0",
      "_model_name": "LayoutModel",
      "_view_count": null,
      "_view_module": "@jupyter-widgets/base",
      "_view_module_version": "1.2.0",
      "_view_name": "LayoutView",
      "align_content": null,
      "align_items": null,
      "align_self": null,
      "border": null,
      "bottom": null,
      "display": null,
      "flex": null,
      "flex_flow": null,
      "grid_area": null,
      "grid_auto_columns": null,
      "grid_auto_flow": null,
      "grid_auto_rows": null,
      "grid_column": null,
      "grid_gap": null,
      "grid_row": null,
      "grid_template_areas": null,
      "grid_template_columns": null,
      "grid_template_rows": null,
      "height": null,
      "justify_content": null,
      "justify_items": null,
      "left": null,
      "margin": null,
      "max_height": null,
      "max_width": null,
      "min_height": null,
      "min_width": null,
      "object_fit": null,
      "object_position": null,
      "order": null,
      "overflow": null,
      "overflow_x": null,
      "overflow_y": null,
      "padding": null,
      "right": null,
      "top": null,
      "visibility": null,
      "width": null
     }
    },
    "31e453cac5dc4001a4e812920d44ee28": {
     "model_module": "@jupyter-widgets/controls",
     "model_name": "FloatProgressModel",
     "state": {
      "_dom_classes": [],
      "_model_module": "@jupyter-widgets/controls",
      "_model_module_version": "1.5.0",
      "_model_name": "FloatProgressModel",
      "_view_count": null,
      "_view_module": "@jupyter-widgets/controls",
      "_view_module_version": "1.5.0",
      "_view_name": "ProgressView",
      "bar_style": "success",
      "description": "100%",
      "description_tooltip": null,
      "layout": "IPY_MODEL_3c0e823ce8694f93a54ca81bb89182a7",
      "max": 500,
      "min": 0,
      "orientation": "horizontal",
      "style": "IPY_MODEL_1df1a60871f945259792d81b045cb61a",
      "value": 500
     }
    },
    "3c0e823ce8694f93a54ca81bb89182a7": {
     "model_module": "@jupyter-widgets/base",
     "model_name": "LayoutModel",
     "state": {
      "_model_module": "@jupyter-widgets/base",
      "_model_module_version": "1.2.0",
      "_model_name": "LayoutModel",
      "_view_count": null,
      "_view_module": "@jupyter-widgets/base",
      "_view_module_version": "1.2.0",
      "_view_name": "LayoutView",
      "align_content": null,
      "align_items": null,
      "align_self": null,
      "border": null,
      "bottom": null,
      "display": null,
      "flex": null,
      "flex_flow": null,
      "grid_area": null,
      "grid_auto_columns": null,
      "grid_auto_flow": null,
      "grid_auto_rows": null,
      "grid_column": null,
      "grid_gap": null,
      "grid_row": null,
      "grid_template_areas": null,
      "grid_template_columns": null,
      "grid_template_rows": null,
      "height": null,
      "justify_content": null,
      "justify_items": null,
      "left": null,
      "margin": null,
      "max_height": null,
      "max_width": null,
      "min_height": null,
      "min_width": null,
      "object_fit": null,
      "object_position": null,
      "order": null,
      "overflow": null,
      "overflow_x": null,
      "overflow_y": null,
      "padding": null,
      "right": null,
      "top": null,
      "visibility": null,
      "width": null
     }
    },
    "44c3670e60d14762853ac2e15cef2381": {
     "model_module": "@jupyter-widgets/controls",
     "model_name": "DescriptionStyleModel",
     "state": {
      "_model_module": "@jupyter-widgets/controls",
      "_model_module_version": "1.5.0",
      "_model_name": "DescriptionStyleModel",
      "_view_count": null,
      "_view_module": "@jupyter-widgets/base",
      "_view_module_version": "1.2.0",
      "_view_name": "StyleView",
      "description_width": ""
     }
    },
    "5075ae5669ea41aaa00b095678ba0ee3": {
     "model_module": "@jupyter-widgets/base",
     "model_name": "LayoutModel",
     "state": {
      "_model_module": "@jupyter-widgets/base",
      "_model_module_version": "1.2.0",
      "_model_name": "LayoutModel",
      "_view_count": null,
      "_view_module": "@jupyter-widgets/base",
      "_view_module_version": "1.2.0",
      "_view_name": "LayoutView",
      "align_content": null,
      "align_items": null,
      "align_self": null,
      "border": null,
      "bottom": null,
      "display": null,
      "flex": null,
      "flex_flow": null,
      "grid_area": null,
      "grid_auto_columns": null,
      "grid_auto_flow": null,
      "grid_auto_rows": null,
      "grid_column": null,
      "grid_gap": null,
      "grid_row": null,
      "grid_template_areas": null,
      "grid_template_columns": null,
      "grid_template_rows": null,
      "height": null,
      "justify_content": null,
      "justify_items": null,
      "left": null,
      "margin": null,
      "max_height": null,
      "max_width": null,
      "min_height": null,
      "min_width": null,
      "object_fit": null,
      "object_position": null,
      "order": null,
      "overflow": null,
      "overflow_x": null,
      "overflow_y": null,
      "padding": null,
      "right": null,
      "top": null,
      "visibility": null,
      "width": null
     }
    },
    "53a43d96fc6c490895ff9a7fd8fa0440": {
     "model_module": "@jupyter-widgets/controls",
     "model_name": "ProgressStyleModel",
     "state": {
      "_model_module": "@jupyter-widgets/controls",
      "_model_module_version": "1.5.0",
      "_model_name": "ProgressStyleModel",
      "_view_count": null,
      "_view_module": "@jupyter-widgets/base",
      "_view_module_version": "1.2.0",
      "_view_name": "StyleView",
      "bar_color": null,
      "description_width": "initial"
     }
    },
    "54d9f65453294fd3ba1733ecfa360418": {
     "model_module": "@jupyter-widgets/base",
     "model_name": "LayoutModel",
     "state": {
      "_model_module": "@jupyter-widgets/base",
      "_model_module_version": "1.2.0",
      "_model_name": "LayoutModel",
      "_view_count": null,
      "_view_module": "@jupyter-widgets/base",
      "_view_module_version": "1.2.0",
      "_view_name": "LayoutView",
      "align_content": null,
      "align_items": null,
      "align_self": null,
      "border": null,
      "bottom": null,
      "display": null,
      "flex": null,
      "flex_flow": null,
      "grid_area": null,
      "grid_auto_columns": null,
      "grid_auto_flow": null,
      "grid_auto_rows": null,
      "grid_column": null,
      "grid_gap": null,
      "grid_row": null,
      "grid_template_areas": null,
      "grid_template_columns": null,
      "grid_template_rows": null,
      "height": null,
      "justify_content": null,
      "justify_items": null,
      "left": null,
      "margin": null,
      "max_height": null,
      "max_width": null,
      "min_height": null,
      "min_width": null,
      "object_fit": null,
      "object_position": null,
      "order": null,
      "overflow": null,
      "overflow_x": null,
      "overflow_y": null,
      "padding": null,
      "right": null,
      "top": null,
      "visibility": null,
      "width": null
     }
    },
    "6371c0f1ffe1489595430e9ab4f4b866": {
     "model_module": "@jupyter-widgets/controls",
     "model_name": "FloatProgressModel",
     "state": {
      "_dom_classes": [],
      "_model_module": "@jupyter-widgets/controls",
      "_model_module_version": "1.5.0",
      "_model_name": "FloatProgressModel",
      "_view_count": null,
      "_view_module": "@jupyter-widgets/controls",
      "_view_module_version": "1.5.0",
      "_view_name": "ProgressView",
      "bar_style": "success",
      "description": "100%",
      "description_tooltip": null,
      "layout": "IPY_MODEL_bf604a4721284d47bb5ee491e3099a7a",
      "max": 500,
      "min": 0,
      "orientation": "horizontal",
      "style": "IPY_MODEL_53a43d96fc6c490895ff9a7fd8fa0440",
      "value": 500
     }
    },
    "6431cfab14604b0db2474dbd760f5dcd": {
     "model_module": "@jupyter-widgets/base",
     "model_name": "LayoutModel",
     "state": {
      "_model_module": "@jupyter-widgets/base",
      "_model_module_version": "1.2.0",
      "_model_name": "LayoutModel",
      "_view_count": null,
      "_view_module": "@jupyter-widgets/base",
      "_view_module_version": "1.2.0",
      "_view_name": "LayoutView",
      "align_content": null,
      "align_items": null,
      "align_self": null,
      "border": null,
      "bottom": null,
      "display": null,
      "flex": null,
      "flex_flow": null,
      "grid_area": null,
      "grid_auto_columns": null,
      "grid_auto_flow": null,
      "grid_auto_rows": null,
      "grid_column": null,
      "grid_gap": null,
      "grid_row": null,
      "grid_template_areas": null,
      "grid_template_columns": null,
      "grid_template_rows": null,
      "height": null,
      "justify_content": null,
      "justify_items": null,
      "left": null,
      "margin": null,
      "max_height": null,
      "max_width": null,
      "min_height": null,
      "min_width": null,
      "object_fit": null,
      "object_position": null,
      "order": null,
      "overflow": null,
      "overflow_x": null,
      "overflow_y": null,
      "padding": null,
      "right": null,
      "top": null,
      "visibility": null,
      "width": null
     }
    },
    "79cc7fb2e84b48b48a11d37163b08b18": {
     "model_module": "@jupyter-widgets/base",
     "model_name": "LayoutModel",
     "state": {
      "_model_module": "@jupyter-widgets/base",
      "_model_module_version": "1.2.0",
      "_model_name": "LayoutModel",
      "_view_count": null,
      "_view_module": "@jupyter-widgets/base",
      "_view_module_version": "1.2.0",
      "_view_name": "LayoutView",
      "align_content": null,
      "align_items": null,
      "align_self": null,
      "border": null,
      "bottom": null,
      "display": null,
      "flex": null,
      "flex_flow": null,
      "grid_area": null,
      "grid_auto_columns": null,
      "grid_auto_flow": null,
      "grid_auto_rows": null,
      "grid_column": null,
      "grid_gap": null,
      "grid_row": null,
      "grid_template_areas": null,
      "grid_template_columns": null,
      "grid_template_rows": null,
      "height": null,
      "justify_content": null,
      "justify_items": null,
      "left": null,
      "margin": null,
      "max_height": null,
      "max_width": null,
      "min_height": null,
      "min_width": null,
      "object_fit": null,
      "object_position": null,
      "order": null,
      "overflow": null,
      "overflow_x": null,
      "overflow_y": null,
      "padding": null,
      "right": null,
      "top": null,
      "visibility": null,
      "width": null
     }
    },
    "90639a54359044d292092de9b8673868": {
     "model_module": "@jupyter-widgets/controls",
     "model_name": "HBoxModel",
     "state": {
      "_dom_classes": [],
      "_model_module": "@jupyter-widgets/controls",
      "_model_module_version": "1.5.0",
      "_model_name": "HBoxModel",
      "_view_count": null,
      "_view_module": "@jupyter-widgets/controls",
      "_view_module_version": "1.5.0",
      "_view_name": "HBoxView",
      "box_style": "",
      "children": [
       "IPY_MODEL_b0a0c54a239f432d944f2b4ccee5a993",
       "IPY_MODEL_071570fd8f7346c7a21fa3a416f0a626"
      ],
      "layout": "IPY_MODEL_ef5fdaa8e1904e739f1d8787174232d9"
     }
    },
    "985ebec895ba441a8f786bd409d086d0": {
     "model_module": "@jupyter-widgets/controls",
     "model_name": "HBoxModel",
     "state": {
      "_dom_classes": [],
      "_model_module": "@jupyter-widgets/controls",
      "_model_module_version": "1.5.0",
      "_model_name": "HBoxModel",
      "_view_count": null,
      "_view_module": "@jupyter-widgets/controls",
      "_view_module_version": "1.5.0",
      "_view_name": "HBoxView",
      "box_style": "",
      "children": [
       "IPY_MODEL_6371c0f1ffe1489595430e9ab4f4b866",
       "IPY_MODEL_cd203147986b4b7e9bcdb3595f4eb2f0"
      ],
      "layout": "IPY_MODEL_79cc7fb2e84b48b48a11d37163b08b18"
     }
    },
    "a726fbc5b5e847eab4278a2d032d88a3": {
     "model_module": "@jupyter-widgets/controls",
     "model_name": "DescriptionStyleModel",
     "state": {
      "_model_module": "@jupyter-widgets/controls",
      "_model_module_version": "1.5.0",
      "_model_name": "DescriptionStyleModel",
      "_view_count": null,
      "_view_module": "@jupyter-widgets/base",
      "_view_module_version": "1.2.0",
      "_view_name": "StyleView",
      "description_width": ""
     }
    },
    "ad8e5cf38f2d4a5a94af71e53499b7b7": {
     "model_module": "@jupyter-widgets/controls",
     "model_name": "HBoxModel",
     "state": {
      "_dom_classes": [],
      "_model_module": "@jupyter-widgets/controls",
      "_model_module_version": "1.5.0",
      "_model_name": "HBoxModel",
      "_view_count": null,
      "_view_module": "@jupyter-widgets/controls",
      "_view_module_version": "1.5.0",
      "_view_name": "HBoxView",
      "box_style": "",
      "children": [
       "IPY_MODEL_ba05b8bd93c1435b97259be770763051",
       "IPY_MODEL_fe20b0b974c7491ebc93f39965e8b8cb"
      ],
      "layout": "IPY_MODEL_5075ae5669ea41aaa00b095678ba0ee3"
     }
    },
    "add1e37c11aa49619fe1b869e9e6e26f": {
     "model_module": "@jupyter-widgets/base",
     "model_name": "LayoutModel",
     "state": {
      "_model_module": "@jupyter-widgets/base",
      "_model_module_version": "1.2.0",
      "_model_name": "LayoutModel",
      "_view_count": null,
      "_view_module": "@jupyter-widgets/base",
      "_view_module_version": "1.2.0",
      "_view_name": "LayoutView",
      "align_content": null,
      "align_items": null,
      "align_self": null,
      "border": null,
      "bottom": null,
      "display": null,
      "flex": null,
      "flex_flow": null,
      "grid_area": null,
      "grid_auto_columns": null,
      "grid_auto_flow": null,
      "grid_auto_rows": null,
      "grid_column": null,
      "grid_gap": null,
      "grid_row": null,
      "grid_template_areas": null,
      "grid_template_columns": null,
      "grid_template_rows": null,
      "height": null,
      "justify_content": null,
      "justify_items": null,
      "left": null,
      "margin": null,
      "max_height": null,
      "max_width": null,
      "min_height": null,
      "min_width": null,
      "object_fit": null,
      "object_position": null,
      "order": null,
      "overflow": null,
      "overflow_x": null,
      "overflow_y": null,
      "padding": null,
      "right": null,
      "top": null,
      "visibility": null,
      "width": null
     }
    },
    "b0a0c54a239f432d944f2b4ccee5a993": {
     "model_module": "@jupyter-widgets/controls",
     "model_name": "FloatProgressModel",
     "state": {
      "_dom_classes": [],
      "_model_module": "@jupyter-widgets/controls",
      "_model_module_version": "1.5.0",
      "_model_name": "FloatProgressModel",
      "_view_count": null,
      "_view_module": "@jupyter-widgets/controls",
      "_view_module_version": "1.5.0",
      "_view_name": "ProgressView",
      "bar_style": "success",
      "description": "100%",
      "description_tooltip": null,
      "layout": "IPY_MODEL_add1e37c11aa49619fe1b869e9e6e26f",
      "max": 800,
      "min": 0,
      "orientation": "horizontal",
      "style": "IPY_MODEL_2df161797e624cae8d7cce1e64a428cb",
      "value": 800
     }
    },
    "ba05b8bd93c1435b97259be770763051": {
     "model_module": "@jupyter-widgets/controls",
     "model_name": "FloatProgressModel",
     "state": {
      "_dom_classes": [],
      "_model_module": "@jupyter-widgets/controls",
      "_model_module_version": "1.5.0",
      "_model_name": "FloatProgressModel",
      "_view_count": null,
      "_view_module": "@jupyter-widgets/controls",
      "_view_module_version": "1.5.0",
      "_view_name": "ProgressView",
      "bar_style": "success",
      "description": "100%",
      "description_tooltip": null,
      "layout": "IPY_MODEL_2e566d7163b64637997322bb8f747502",
      "max": 500,
      "min": 0,
      "orientation": "horizontal",
      "style": "IPY_MODEL_f92d6f8f106a4c54bf1b03941f24ab1b",
      "value": 500
     }
    },
    "bf604a4721284d47bb5ee491e3099a7a": {
     "model_module": "@jupyter-widgets/base",
     "model_name": "LayoutModel",
     "state": {
      "_model_module": "@jupyter-widgets/base",
      "_model_module_version": "1.2.0",
      "_model_name": "LayoutModel",
      "_view_count": null,
      "_view_module": "@jupyter-widgets/base",
      "_view_module_version": "1.2.0",
      "_view_name": "LayoutView",
      "align_content": null,
      "align_items": null,
      "align_self": null,
      "border": null,
      "bottom": null,
      "display": null,
      "flex": null,
      "flex_flow": null,
      "grid_area": null,
      "grid_auto_columns": null,
      "grid_auto_flow": null,
      "grid_auto_rows": null,
      "grid_column": null,
      "grid_gap": null,
      "grid_row": null,
      "grid_template_areas": null,
      "grid_template_columns": null,
      "grid_template_rows": null,
      "height": null,
      "justify_content": null,
      "justify_items": null,
      "left": null,
      "margin": null,
      "max_height": null,
      "max_width": null,
      "min_height": null,
      "min_width": null,
      "object_fit": null,
      "object_position": null,
      "order": null,
      "overflow": null,
      "overflow_x": null,
      "overflow_y": null,
      "padding": null,
      "right": null,
      "top": null,
      "visibility": null,
      "width": null
     }
    },
    "c4be43f13de34e95a70b57fe16f85060": {
     "model_module": "@jupyter-widgets/base",
     "model_name": "LayoutModel",
     "state": {
      "_model_module": "@jupyter-widgets/base",
      "_model_module_version": "1.2.0",
      "_model_name": "LayoutModel",
      "_view_count": null,
      "_view_module": "@jupyter-widgets/base",
      "_view_module_version": "1.2.0",
      "_view_name": "LayoutView",
      "align_content": null,
      "align_items": null,
      "align_self": null,
      "border": null,
      "bottom": null,
      "display": null,
      "flex": null,
      "flex_flow": null,
      "grid_area": null,
      "grid_auto_columns": null,
      "grid_auto_flow": null,
      "grid_auto_rows": null,
      "grid_column": null,
      "grid_gap": null,
      "grid_row": null,
      "grid_template_areas": null,
      "grid_template_columns": null,
      "grid_template_rows": null,
      "height": null,
      "justify_content": null,
      "justify_items": null,
      "left": null,
      "margin": null,
      "max_height": null,
      "max_width": null,
      "min_height": null,
      "min_width": null,
      "object_fit": null,
      "object_position": null,
      "order": null,
      "overflow": null,
      "overflow_x": null,
      "overflow_y": null,
      "padding": null,
      "right": null,
      "top": null,
      "visibility": null,
      "width": null
     }
    },
    "cc43aa2597284cddb5a5981935fba4eb": {
     "model_module": "@jupyter-widgets/controls",
     "model_name": "DescriptionStyleModel",
     "state": {
      "_model_module": "@jupyter-widgets/controls",
      "_model_module_version": "1.5.0",
      "_model_name": "DescriptionStyleModel",
      "_view_count": null,
      "_view_module": "@jupyter-widgets/base",
      "_view_module_version": "1.2.0",
      "_view_name": "StyleView",
      "description_width": ""
     }
    },
    "cd203147986b4b7e9bcdb3595f4eb2f0": {
     "model_module": "@jupyter-widgets/controls",
     "model_name": "HTMLModel",
     "state": {
      "_dom_classes": [],
      "_model_module": "@jupyter-widgets/controls",
      "_model_module_version": "1.5.0",
      "_model_name": "HTMLModel",
      "_view_count": null,
      "_view_module": "@jupyter-widgets/controls",
      "_view_module_version": "1.5.0",
      "_view_name": "HTMLView",
      "description": "",
      "description_tooltip": null,
      "layout": "IPY_MODEL_6431cfab14604b0db2474dbd760f5dcd",
      "placeholder": "​",
      "style": "IPY_MODEL_44c3670e60d14762853ac2e15cef2381",
      "value": " 500/500 [00:17&lt;00:00, 28.20it/s]"
     }
    },
    "edefdc2862c741cfa6e953bdb4a148e7": {
     "model_module": "@jupyter-widgets/controls",
     "model_name": "HTMLModel",
     "state": {
      "_dom_classes": [],
      "_model_module": "@jupyter-widgets/controls",
      "_model_module_version": "1.5.0",
      "_model_name": "HTMLModel",
      "_view_count": null,
      "_view_module": "@jupyter-widgets/controls",
      "_view_module_version": "1.5.0",
      "_view_name": "HTMLView",
      "description": "",
      "description_tooltip": null,
      "layout": "IPY_MODEL_54d9f65453294fd3ba1733ecfa360418",
      "placeholder": "​",
      "style": "IPY_MODEL_25ee0b81be90427fb3bc86137eed9b68",
      "value": " 500/500 [00:17&lt;00:00, 28.38it/s]"
     }
    },
    "ef5fdaa8e1904e739f1d8787174232d9": {
     "model_module": "@jupyter-widgets/base",
     "model_name": "LayoutModel",
     "state": {
      "_model_module": "@jupyter-widgets/base",
      "_model_module_version": "1.2.0",
      "_model_name": "LayoutModel",
      "_view_count": null,
      "_view_module": "@jupyter-widgets/base",
      "_view_module_version": "1.2.0",
      "_view_name": "LayoutView",
      "align_content": null,
      "align_items": null,
      "align_self": null,
      "border": null,
      "bottom": null,
      "display": null,
      "flex": null,
      "flex_flow": null,
      "grid_area": null,
      "grid_auto_columns": null,
      "grid_auto_flow": null,
      "grid_auto_rows": null,
      "grid_column": null,
      "grid_gap": null,
      "grid_row": null,
      "grid_template_areas": null,
      "grid_template_columns": null,
      "grid_template_rows": null,
      "height": null,
      "justify_content": null,
      "justify_items": null,
      "left": null,
      "margin": null,
      "max_height": null,
      "max_width": null,
      "min_height": null,
      "min_width": null,
      "object_fit": null,
      "object_position": null,
      "order": null,
      "overflow": null,
      "overflow_x": null,
      "overflow_y": null,
      "padding": null,
      "right": null,
      "top": null,
      "visibility": null,
      "width": null
     }
    },
    "f48be41e5f85408eb7f964c2e0557a6b": {
     "model_module": "@jupyter-widgets/base",
     "model_name": "LayoutModel",
     "state": {
      "_model_module": "@jupyter-widgets/base",
      "_model_module_version": "1.2.0",
      "_model_name": "LayoutModel",
      "_view_count": null,
      "_view_module": "@jupyter-widgets/base",
      "_view_module_version": "1.2.0",
      "_view_name": "LayoutView",
      "align_content": null,
      "align_items": null,
      "align_self": null,
      "border": null,
      "bottom": null,
      "display": null,
      "flex": null,
      "flex_flow": null,
      "grid_area": null,
      "grid_auto_columns": null,
      "grid_auto_flow": null,
      "grid_auto_rows": null,
      "grid_column": null,
      "grid_gap": null,
      "grid_row": null,
      "grid_template_areas": null,
      "grid_template_columns": null,
      "grid_template_rows": null,
      "height": null,
      "justify_content": null,
      "justify_items": null,
      "left": null,
      "margin": null,
      "max_height": null,
      "max_width": null,
      "min_height": null,
      "min_width": null,
      "object_fit": null,
      "object_position": null,
      "order": null,
      "overflow": null,
      "overflow_x": null,
      "overflow_y": null,
      "padding": null,
      "right": null,
      "top": null,
      "visibility": null,
      "width": null
     }
    },
    "f92d6f8f106a4c54bf1b03941f24ab1b": {
     "model_module": "@jupyter-widgets/controls",
     "model_name": "ProgressStyleModel",
     "state": {
      "_model_module": "@jupyter-widgets/controls",
      "_model_module_version": "1.5.0",
      "_model_name": "ProgressStyleModel",
      "_view_count": null,
      "_view_module": "@jupyter-widgets/base",
      "_view_module_version": "1.2.0",
      "_view_name": "StyleView",
      "bar_color": null,
      "description_width": "initial"
     }
    },
    "fb7d4fb5d11f46c6b8f351a04699d0bb": {
     "model_module": "@jupyter-widgets/controls",
     "model_name": "HBoxModel",
     "state": {
      "_dom_classes": [],
      "_model_module": "@jupyter-widgets/controls",
      "_model_module_version": "1.5.0",
      "_model_name": "HBoxModel",
      "_view_count": null,
      "_view_module": "@jupyter-widgets/controls",
      "_view_module_version": "1.5.0",
      "_view_name": "HBoxView",
      "box_style": "",
      "children": [
       "IPY_MODEL_31e453cac5dc4001a4e812920d44ee28",
       "IPY_MODEL_edefdc2862c741cfa6e953bdb4a148e7"
      ],
      "layout": "IPY_MODEL_c4be43f13de34e95a70b57fe16f85060"
     }
    },
    "fe20b0b974c7491ebc93f39965e8b8cb": {
     "model_module": "@jupyter-widgets/controls",
     "model_name": "HTMLModel",
     "state": {
      "_dom_classes": [],
      "_model_module": "@jupyter-widgets/controls",
      "_model_module_version": "1.5.0",
      "_model_name": "HTMLModel",
      "_view_count": null,
      "_view_module": "@jupyter-widgets/controls",
      "_view_module_version": "1.5.0",
      "_view_name": "HTMLView",
      "description": "",
      "description_tooltip": null,
      "layout": "IPY_MODEL_f48be41e5f85408eb7f964c2e0557a6b",
      "placeholder": "​",
      "style": "IPY_MODEL_cc43aa2597284cddb5a5981935fba4eb",
      "value": " 500/500 [00:17&lt;00:00, 28.55it/s]"
     }
    }
   }
  }
 },
 "nbformat": 4,
 "nbformat_minor": 1
}
