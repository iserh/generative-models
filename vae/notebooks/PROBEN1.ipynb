{
 "cells": [
  {
   "cell_type": "markdown",
   "metadata": {
    "id": "uU1WA1dXVK40"
   },
   "source": [
    "# Using VAEs as a Data Augmentation Technic\n",
    "## Observations\n",
    " - Slightly improves f1-scores in few-shot scenarios\n",
    " - only yields improvments when generated samples do NOT dominate the original samples, i.e. do not generate more examples than the original dataset holds!\n",
    " - for non-few-shot scenarios the augmentation leads to faster and more stable convergence but not to an overall better performance of the model\n",
    " - often the f1-scores tend to rise faster when using additional generated data espiacially in early stages of training (first ~100 steps)\n",
    " - it seems like one cannot train the VAEs enough. The longer the better, which is weird because usually this means that the generated samples are very close to the original ones used for training"
   ]
  },
  {
   "cell_type": "code",
   "execution_count": 2,
   "metadata": {},
   "outputs": [
    {
     "name": "stdout",
     "output_type": "stream",
     "text": [
      "Populating the interactive namespace from numpy and matplotlib\n"
     ]
    }
   ],
   "source": [
    "%pylab inline"
   ]
  },
  {
   "cell_type": "code",
   "execution_count": 3,
   "metadata": {
    "colab": {
     "base_uri": "https://localhost:8080/"
    },
    "executionInfo": {
     "elapsed": 2358,
     "status": "ok",
     "timestamp": 1616202381184,
     "user": {
      "displayName": "Niclas Doll",
      "photoUrl": "",
      "userId": "03509535029183763642"
     },
     "user_tz": -60
    },
    "id": "sscYoToTCo9r",
    "outputId": "e218a805-e9dc-4782-d71f-cc10a204b317"
   },
   "outputs": [],
   "source": [
    "import torch\n",
    "import torch.nn as nn\n",
    "import torch.nn.functional as F\n",
    "from sklearn.model_selection import StratifiedKFold, train_test_split\n",
    "from sklearn.metrics import accuracy_score, f1_score\n",
    "from sklearn.decomposition import PCA\n",
    "from tqdm.notebook import trange\n",
    "from pathlib import Path\n",
    "import pandas as pd\n",
    "import random"
   ]
  },
  {
   "cell_type": "code",
   "execution_count": 4,
   "metadata": {
    "id": "5SajoGzlth5T"
   },
   "outputs": [],
   "source": [
    "# set seed\n",
    "seed = 83\n",
    "# set cudnn backend to be deterministic\n",
    "torch.backends.cudnn.deterministic = True\n",
    "# utility function for seeding\n",
    "def seed_everything(seed):\n",
    "    random.seed(seed)\n",
    "    np.random.seed(seed)\n",
    "    torch.manual_seed(seed)\n",
    "    torch.cuda.manual_seed(seed)"
   ]
  },
  {
   "cell_type": "markdown",
   "metadata": {
    "id": "zy65e-d2GHfc"
   },
   "source": [
    "## Hyperparameters"
   ]
  },
  {
   "cell_type": "code",
   "execution_count": 8,
   "metadata": {
    "colab": {
     "base_uri": "https://localhost:8080/"
    },
    "executionInfo": {
     "elapsed": 2322,
     "status": "ok",
     "timestamp": 1616202381187,
     "user": {
      "displayName": "Niclas Doll",
      "photoUrl": "",
      "userId": "03509535029183763642"
     },
     "user_tz": -60
    },
    "id": "MYVXwZ18GGbo",
    "outputId": "98d13e90-f680-47dd-cbec-a1398f7ce5ce"
   },
   "outputs": [
    {
     "name": "stdout",
     "output_type": "stream",
     "text": [
      "Using device: cuda:0\n"
     ]
    }
   ],
   "source": [
    "dataset_name = \"                       diabetes          \".replace(\" \", \"\")\n",
    "mix_data =                             False\n",
    "# consider reduced training sizes\n",
    "n_total_examples =                     5\n",
    "# total number of examples to be \n",
    "# generated\n",
    "n_generated_perc =                     100\n",
    "# Switches the way the number of \n",
    "# examples per class is computed\n",
    "balancing =                            False\n",
    "# latent space dimension for vae\n",
    "vae_z_dim =                            2\n",
    "# number of training steps for the vae\n",
    "vae_training_steps =                   3000\n",
    "# beta parameter of the kl-loss term\n",
    "vae_beta =                             0.034\n",
    "# batch size for vae training\n",
    "vae_batch_size =                       8\n",
    "# number of training steps for the gc\n",
    "gc_training_steps =                    1000\n",
    "# batch size for gan training\n",
    "gc_batch_size =                        8\n",
    "# std used for adjusting normal noise\n",
    "gc_std =                               0.050\n",
    "# number of training steps for the cnn\n",
    "cls_training_steps =                   2000\n",
    "# batch size for cnn training\n",
    "cls_batch_size =                       32\n",
    "# interval to evaluate model \n",
    "# during training\n",
    "cls_eval_interval =                    20\n",
    "# layer sizes\n",
    "N =                                    512\n",
    "M =                                    256\n",
    "K =                                    128\n",
    "# cuda\n",
    "device = 'cuda:0' if torch.cuda.is_available() else 'cpu'\n",
    "print(\"Using device:\", device)\n",
    "# output dir for plots\n",
    "plot_dir = Path(f\"../plots/PROBEN1/{dataset_name}/runs/{n_total_examples}-{n_generated_perc}-{vae_z_dim}-{vae_training_steps}-{vae_beta}-{vae_batch_size}-{gc_training_steps}-{gc_batch_size}-{gc_std}-{cls_training_steps}-{cls_batch_size}-{cls_eval_interval}-{N}-{M}-{K}\")\n",
    "plot_root = Path(f\"../plots/PROBEN1/{dataset_name}\")\n",
    "plot_root.mkdir(exist_ok=True, parents=True)\n",
    "plot_dir.mkdir(exist_ok=True, parents=True)"
   ]
  },
  {
   "cell_type": "markdown",
   "metadata": {
    "id": "ReYQBOlYDhKI"
   },
   "source": [
    "## Data Preparation\n"
   ]
  },
  {
   "cell_type": "code",
   "execution_count": 9,
   "metadata": {
    "id": "MZ33Tc-wFJlf"
   },
   "outputs": [
    {
     "name": "stdout",
     "output_type": "stream",
     "text": [
      "class_counts = [400 214]\n",
      "0.9327521564455291\n"
     ]
    }
   ],
   "source": [
    "seed_everything(seed)\n",
    "# load data and labels\n",
    "data = np.loadtxt(Path(f\"../datasets/proben1/{dataset_name}_data.txt\").expanduser())\n",
    "labels = np.loadtxt(Path(f\"../datasets/proben1/{dataset_name}_labels.txt\").expanduser())\n",
    "# remember the shape of the data\n",
    "in_feat = data.shape[1]\n",
    "n_classes = len(np.unique(labels))\n",
    "# split data into train & test parts\n",
    "x_train, x_test, y_train, y_test = train_test_split(data, labels, test_size=0.20, stratify=labels, shuffle=True, random_state=seed)\n",
    "print(f\"class_counts = {np.unique(y_train, return_counts=True)[1]}\")\n",
    "\n",
    "# balancing factor\n",
    "counts = np.unique(y_train, return_counts=True)[1]\n",
    "n = counts.sum()\n",
    "balance = -(counts / n * np.log(counts / n)).sum() / np.log(len(counts))\n",
    "print(balance)\n",
    "\n",
    "# convert testing data to tensors\n",
    "x_test = torch.FloatTensor(x_test)\n",
    "y_test = torch.LongTensor(y_test)\n",
    "# Stratified KFold\n",
    "# skf = StratifiedKFold(n_splits=2, random_state=seed, shuffle=True)\n",
    "# # only use the first iteration of cross-validation\n",
    "# seed_everything(seed)\n",
    "# train_index, _ = next(iter(skf.split(x_train, y_train)))\n",
    "# # select data by cross-validation index\n",
    "# x_train, y_train = data[train_index], labels[train_index]\n",
    "# separate train data into the different classes\n",
    "if mix_data:\n",
    "    train_per_label = []\n",
    "    for i in range(n_classes):\n",
    "        class_data = x_train[y_train == i]\n",
    "        other_data = x_train[y_train != i]\n",
    "        train_per_label.append(np.concatenate([class_data, other_data[np.random.permutation(len(other_data))[:len(class_data) // 4]]]))\n",
    "else:\n",
    "    train_per_label = [x_train[y_train == i] for i in range(n_classes)]\n",
    "# reduce training size\n",
    "if n_total_examples:\n",
    "    train_per_label = [x_train[np.random.permutation(x_train.shape[0])[:n_total_examples]] for x_train in train_per_label]"
   ]
  },
  {
   "cell_type": "code",
   "execution_count": 10,
   "metadata": {},
   "outputs": [
    {
     "name": "stdout",
     "output_type": "stream",
     "text": [
      "class_data_sizes = [5, 5]\n",
      "n_generated_per_class = [500, 500]\n"
     ]
    }
   ],
   "source": [
    "# compute number of examples to generate for each class\n",
    "n_total = sum([len(y_train[y_train == i]) for i in range(n_classes)])\n",
    "# x is the proportion of each class in the dataset\n",
    "x = np.array([count / n_total for count in np.unique(y_train, return_counts=True)[1]])\n",
    "# if balancing the number of generated examples is computed differently\n",
    "if balancing and not n_total_examples:\n",
    "    n_generated_per_class = np.round((1 - x) / (n_classes - 1) * np.round(n_generated_perc * n_total)).astype('int')\n",
    "elif not n_total_examples:\n",
    "    n_generated_per_class = np.round(x * np.round(n_generated_perc * n_total)).astype('int')\n",
    "else:\n",
    "    n_generated_per_class = [len(X) * n_generated_perc for X in train_per_label]\n",
    "# print class counts and number of generated per class\n",
    "print(f\"class_data_sizes = {[len(X) for X in train_per_label]}\")\n",
    "print(f\"n_generated_per_class = {n_generated_per_class}\")"
   ]
  },
  {
   "cell_type": "markdown",
   "metadata": {
    "id": "f3AzNZKIDEcU"
   },
   "source": [
    "# Variational Auto-Encoder"
   ]
  },
  {
   "cell_type": "code",
   "execution_count": 7,
   "metadata": {
    "id": "J2KSb8O7DC5r"
   },
   "outputs": [],
   "source": [
    "class Encoder(nn.Module):\n",
    "    def __init__(self, z_dim):\n",
    "        super().__init__()\n",
    "        self.sequential = nn.Sequential(\n",
    "            nn.Linear(in_feat, 512),\n",
    "            nn.ReLU(inplace=True),\n",
    "            nn.BatchNorm1d(512),\n",
    "            nn.Linear(512, 256),\n",
    "            nn.ReLU(inplace=True),\n",
    "            nn.BatchNorm1d(256),\n",
    "            nn.Linear(256, 128),\n",
    "            nn.ReLU(inplace=True),\n",
    "            nn.BatchNorm1d(128),\n",
    "            nn.Linear(128, 64),\n",
    "            nn.ReLU(inplace=True),\n",
    "            nn.BatchNorm1d(64),\n",
    "        )\n",
    "        self.mean = nn.Linear(64, z_dim)\n",
    "        self.log_variance = nn.Linear(64, z_dim)\n",
    "    def forward(self, x):\n",
    "        seq_out = self.sequential(x)\n",
    "        # actually computes the log of the variance\n",
    "        return self.mean(seq_out), self.log_variance(seq_out)\n",
    "class Decoder(nn.Module):\n",
    "    def __init__(self, z_dim):\n",
    "        super().__init__()\n",
    "        self.sequential = nn.Sequential(\n",
    "            nn.Linear(z_dim, 64),\n",
    "            nn.LeakyReLU(0.2, inplace=True),\n",
    "            nn.BatchNorm1d(64),\n",
    "            nn.Linear(64, 128),\n",
    "            nn.LeakyReLU(0.2, inplace=True),\n",
    "            nn.BatchNorm1d(128),\n",
    "            nn.Linear(128, 256),\n",
    "            nn.LeakyReLU(0.2, inplace=True),\n",
    "            nn.BatchNorm1d(256),\n",
    "            nn.Linear(256, 512),\n",
    "            nn.LeakyReLU(0.2, inplace=True),\n",
    "            nn.BatchNorm1d(512),\n",
    "            nn.Linear(512, in_feat),\n",
    "            nn.Sigmoid(),\n",
    "        )\n",
    "    def forward(self, z):\n",
    "        return self.sequential(z)\n",
    "class VAE(nn.Module):\n",
    "    def __init__(self, z_dim):\n",
    "        super().__init__()\n",
    "        self.encoder = Encoder(z_dim)\n",
    "        self.decoder = Decoder(z_dim)\n",
    "    def forward(self, x):\n",
    "        # encode\n",
    "        m, v_log = self.encoder(x)\n",
    "        if self.training:\n",
    "            # sample from encoding\n",
    "            eps = torch.empty_like(v_log).normal_()\n",
    "            z = eps * (v_log / 2).exp() + m\n",
    "        else:\n",
    "            z = m\n",
    "        # decode from sample\n",
    "        x_ = self.decoder(z)\n",
    "        # return reconstruction, mean and log_variance\n",
    "        return x_, m, v_log"
   ]
  },
  {
   "cell_type": "code",
   "execution_count": 8,
   "metadata": {
    "id": "356sSFl1DNij"
   },
   "outputs": [],
   "source": [
    "seed_everything(seed)\n",
    "# create one VAE model for each class\n",
    "vae_per_label = [VAE(z_dim=vae_z_dim) for _ in range(n_classes)]"
   ]
  },
  {
   "cell_type": "markdown",
   "metadata": {
    "id": "vTUAQKRnDVWe"
   },
   "source": [
    "### Training the VAE Models"
   ]
  },
  {
   "cell_type": "code",
   "execution_count": 9,
   "metadata": {
    "colab": {
     "base_uri": "https://localhost:8080/"
    },
    "executionInfo": {
     "elapsed": 69219,
     "status": "ok",
     "timestamp": 1616202448126,
     "user": {
      "displayName": "Niclas Doll",
      "photoUrl": "",
      "userId": "03509535029183763642"
     },
     "user_tz": -60
    },
    "id": "-6QNTa9aDUfi",
    "outputId": "92e6f5aa-6d40-4d77-a5a9-338740548158",
    "scrolled": false
   },
   "outputs": [
    {
     "data": {
      "application/vnd.jupyter.widget-view+json": {
       "model_id": "",
       "version_major": 2,
       "version_minor": 0
      },
      "text/plain": [
       "  0%|          | 0/3000 [00:00<?, ?it/s]"
      ]
     },
     "metadata": {},
     "output_type": "display_data"
    },
    {
     "name": "stdout",
     "output_type": "stream",
     "text": [
      "k=0\t r-loss: 9.921\t kl-loss: 10.274\n"
     ]
    },
    {
     "data": {
      "application/vnd.jupyter.widget-view+json": {
       "model_id": "",
       "version_major": 2,
       "version_minor": 0
      },
      "text/plain": [
       "  0%|          | 0/3000 [00:00<?, ?it/s]"
      ]
     },
     "metadata": {},
     "output_type": "display_data"
    },
    {
     "name": "stdout",
     "output_type": "stream",
     "text": [
      "k=1\t r-loss: 8.940\t kl-loss: 7.324\n"
     ]
    }
   ],
   "source": [
    "# train each vae on the specific data\n",
    "for k, (X, vae) in enumerate(zip(train_per_label, vae_per_label)):\n",
    "    r_losses, kl_losses = [], []\n",
    "    X = torch.FloatTensor(X)\n",
    "    # move vae to device and set it to train mode\n",
    "    # also create an optimizer\n",
    "    vae.to(device).train()\n",
    "    optim = torch.optim.Adam(vae.parameters(), lr=2e-4, weight_decay=0.01)\n",
    "    t = trange(vae_training_steps, leave=False)\n",
    "    for i in t:\n",
    "        # get batch to train from\n",
    "        x_idx = np.random.randint(0, X.shape[0], vae_batch_size)\n",
    "        x = X[x_idx].to(device)\n",
    "        # predict and compute loss\n",
    "        x_, m, v_log = vae(x)\n",
    "        r_l = F.binary_cross_entropy(x_, x) * in_feat\n",
    "        kl_l = (v_log.exp() + m**2 - 1 - v_log).sum(-1).mean()\n",
    "        # update parameters\n",
    "        optim.zero_grad()\n",
    "        (r_l + vae_beta * kl_l).backward()\n",
    "        optim.step()\n",
    "        # update losses\n",
    "        r_losses.append(r_l.item())\n",
    "        kl_losses.append(kl_l.item())\n",
    "        # update progress bar\n",
    "        t.set_postfix({'r-loss': r_losses[-1], 'kl-loss': kl_losses[-1]})\n",
    "    # close tqdm bar\n",
    "    t.close()\n",
    "    # move model back to cpu and \n",
    "    # set into eval mode after training\n",
    "    # is finished\n",
    "    vae.to('cpu').eval()\n",
    "    # feedback\n",
    "    print(\"k=%i\\t r-loss: %.03f\\t kl-loss: %.03f\" % (k, r_losses[-1], kl_losses[-1]))"
   ]
  },
  {
   "cell_type": "code",
   "execution_count": 10,
   "metadata": {},
   "outputs": [
    {
     "data": {
      "image/png": "[encoded data removed]",
      "text/plain": [
       "<Figure size 720x360 with 2 Axes>"
      ]
     },
     "metadata": {
      "needs_background": "light"
     },
     "output_type": "display_data"
    }
   ],
   "source": [
    "figure(tight_layout=True, figsize=(5 * n_classes, 5))\n",
    "with torch.no_grad():\n",
    "    for i, (vae, x_train) in enumerate(zip(vae_per_label, train_per_label), start=1):\n",
    "        z = vae.encoder(torch.FloatTensor(x_train))[0]\n",
    "        # plot\n",
    "        subplot(1, n_classes, i)\n",
    "        if z.shape[1] == 1:\n",
    "            scatter(z, torch.zeros_like(z), s=2)\n",
    "        elif z.shape[1] == 2:\n",
    "            scatter(*z.T, s=2)\n",
    "        else:\n",
    "            scatter(*PCA(2).fit_transform(z).T, s=2)\n",
    "        title(f\"class {i}\")\n",
    "savefig(plot_dir / f\"feature_space.pdf\")\n",
    "show()"
   ]
  },
  {
   "cell_type": "code",
   "execution_count": 11,
   "metadata": {
    "colab": {
     "base_uri": "https://localhost:8080/",
     "height": 595
    },
    "executionInfo": {
     "elapsed": 69948,
     "status": "ok",
     "timestamp": 1616202448885,
     "user": {
      "displayName": "Niclas Doll",
      "photoUrl": "",
      "userId": "03509535029183763642"
     },
     "user_tz": -60
    },
    "id": "fdykw3rxM7Td",
    "outputId": "bb428a1f-2ca4-4d94-986e-ea642add44a4"
   },
   "outputs": [
    {
     "name": "stdout",
     "output_type": "stream",
     "text": [
      "Original Examples\n"
     ]
    },
    {
     "data": {
      "image/png": "[encoded data removed]",
      "text/plain": [
       "<Figure size 720x360 with 2 Axes>"
      ]
     },
     "metadata": {
      "needs_background": "light"
     },
     "output_type": "display_data"
    },
    {
     "name": "stdout",
     "output_type": "stream",
     "text": [
      "VAE Examples\n"
     ]
    },
    {
     "data": {
      "image/png": "[encoded data removed]",
      "text/plain": [
       "<Figure size 720x360 with 2 Axes>"
      ]
     },
     "metadata": {
      "needs_background": "light"
     },
     "output_type": "display_data"
    }
   ],
   "source": [
    "# plot original\n",
    "print(\"Original Examples\")\n",
    "figure(tight_layout=True, figsize=(5 * n_classes, 5))\n",
    "for i, X in enumerate(train_per_label, start=1):\n",
    "    subplot(1, n_classes, i)\n",
    "    imshow(X[:10].reshape(-1, in_feat))\n",
    "    axis(\"off\")\n",
    "savefig(plot_dir / \"original_data.pdf\")\n",
    "show()\n",
    "# generate new examples from normal distribution\n",
    "z_rand = torch.empty(10, vae_z_dim).normal_(0, 1)\n",
    "with torch.no_grad():\n",
    "    x_gen_per_class = [\n",
    "        vae.decoder.forward(z_rand).reshape(-1, in_feat)\n",
    "        for vae in vae_per_label\n",
    "    ]\n",
    "# plot vae examples\n",
    "print(\"VAE Examples\")\n",
    "figure(tight_layout=True, figsize=(5 * n_classes, 5))\n",
    "for i, x_gen in enumerate(x_gen_per_class, start=1):\n",
    "    subplot(1, n_classes, i)\n",
    "    imshow(x_gen.numpy())\n",
    "    axis(\"off\")\n",
    "savefig(plot_dir / \"vae_data.pdf\")\n",
    "show()"
   ]
  },
  {
   "cell_type": "markdown",
   "metadata": {
    "id": "RJUyOIioryPA"
   },
   "source": [
    "# Generative Classifier\n",
    "We train a classifier to decide which images are generated by an vae and which ones aren't. By only training the model for a few steps we hope to ensure that the vae still generates images that are not discarded by the generative classifier."
   ]
  },
  {
   "cell_type": "code",
   "execution_count": 12,
   "metadata": {
    "id": "iwJbOiSO85_I"
   },
   "outputs": [],
   "source": [
    "class GenerativeClassifier(nn.Module):\n",
    "    def __init__(self):\n",
    "        super().__init__()\n",
    "        self.sequential = nn.Sequential( \n",
    "            # input size: in_feat\n",
    "            nn.Linear(in_feat, N),\n",
    "            nn.LeakyReLU(inplace=True),\n",
    "            nn.BatchNorm1d(N),\n",
    "            nn.Dropout(0.1, inplace=True),\n",
    "            # state size: N\n",
    "            nn.Linear(N, M),\n",
    "            nn.LeakyReLU(inplace=True),\n",
    "            nn.BatchNorm1d(M),\n",
    "            nn.Dropout(0.1, inplace=True),\n",
    "            # state size: M\n",
    "            nn.Linear(M, K),\n",
    "            nn.LeakyReLU(inplace=True),\n",
    "            nn.BatchNorm1d(K),\n",
    "            nn.Dropout(0.1, inplace=True),\n",
    "            # state size: K\n",
    "            nn.Linear(K, 1),\n",
    "            nn.Sigmoid(),\n",
    "        )\n",
    "    def forward(self, x):\n",
    "        return self.sequential(x)"
   ]
  },
  {
   "cell_type": "code",
   "execution_count": 13,
   "metadata": {
    "id": "4CGf9xo49M20"
   },
   "outputs": [
    {
     "data": {
      "image/png": "[encoded data removed]",
      "text/plain": [
       "<Figure size 1440x720 with 2 Axes>"
      ]
     },
     "metadata": {
      "needs_background": "light"
     },
     "output_type": "display_data"
    }
   ],
   "source": [
    "seed_everything(seed)\n",
    "# build dataset of fake and real samples\n",
    "real_x = torch.FloatTensor(np.concatenate(train_per_label, axis=0))\n",
    "# create n/2 uniform distributed datapoints\n",
    "uniform = torch.rand(size=(real_x.size(0) // 2, *real_x.size()[1:]))\n",
    "# compute mean of dataset\n",
    "feature_means = real_x.mean(dim=1)\n",
    "# create n/2 normal distributed datapoints by adding normal noise to n/2 of the dataset\n",
    "idx = torch.randperm(real_x.size(0))[: real_x.size(0) // 2]\n",
    "# create normal noise with sample mean and std=0.3\n",
    "normal = torch.stack([torch.normal(mean, gc_std, size=real_x.size()[1:]) for mean in feature_means[:real_x.size(0) // 2]], dim=0)\n",
    "normal += real_x[idx]\n",
    "# normalize normal noise examples\n",
    "_min = normal.flatten(-2).min(-1)[0].unsqueeze(-1).unsqueeze(-1)\n",
    "_max = normal.flatten(-2).max(-1)[0].unsqueeze(-1).unsqueeze(-1)\n",
    "normal = (normal - _min) / (_max - _min)\n",
    "\n",
    "# fake_x = torch.cat([uniform, normal], dim=0)\n",
    "fake_x = torch.cat([uniform, normal], dim=0)\n",
    "# create labels\n",
    "real_y = torch.ones(real_x.size(0))\n",
    "fake_y = torch.zeros(fake_x.size(0))\n",
    "# pack into dataloader\n",
    "gc_dataset = torch.utils.data.TensorDataset(torch.cat((real_x, fake_x), dim=0), torch.cat((real_y, fake_y), dim=0))\n",
    "# visualize the data used to train the gc\n",
    "_, (ax_original, ax_noisy) = subplots(1, 2, tight_layout=True, figsize=(20, 10))\n",
    "num_vis = min(50, idx.size(0))\n",
    "ax_original.imshow(real_x[idx][:num_vis].numpy().reshape(1, num_vis, 1, in_feat).transpose(1, 2, 0, 3).reshape(num_vis, in_feat))\n",
    "ax_original.axis(\"off\")\n",
    "ax_noisy.imshow(normal[:num_vis].numpy().reshape(1, num_vis, 1, in_feat).transpose(1, 2, 0, 3).reshape(num_vis, in_feat))\n",
    "ax_noisy.axis(\"off\")\n",
    "savefig(plot_dir / \"gc_train_data.pdf\")\n",
    "show()"
   ]
  },
  {
   "cell_type": "code",
   "execution_count": 14,
   "metadata": {
    "colab": {
     "base_uri": "https://localhost:8080/",
     "height": 67,
     "referenced_widgets": [
      "90639a54359044d292092de9b8673868",
      "ef5fdaa8e1904e739f1d8787174232d9",
      "b0a0c54a239f432d944f2b4ccee5a993",
      "071570fd8f7346c7a21fa3a416f0a626",
      "2df161797e624cae8d7cce1e64a428cb",
      "add1e37c11aa49619fe1b869e9e6e26f",
      "a726fbc5b5e847eab4278a2d032d88a3",
      "0857acc107bb4f54a5044cfd0695a5f3"
     ]
    },
    "executionInfo": {
     "elapsed": 72112,
     "status": "ok",
     "timestamp": 1616202451100,
     "user": {
      "displayName": "Niclas Doll",
      "photoUrl": "",
      "userId": "03509535029183763642"
     },
     "user_tz": -60
    },
    "id": "NSrt8XQY-_qd",
    "outputId": "7f182119-71c5-4f04-c3c1-84bf4bd2a1b7"
   },
   "outputs": [
    {
     "data": {
      "application/vnd.jupyter.widget-view+json": {
       "model_id": "a58d297e6823401cb9a979cdda34dadb",
       "version_major": 2,
       "version_minor": 0
      },
      "text/plain": [
       "  0%|          | 0/1000 [00:00<?, ?it/s]"
      ]
     },
     "metadata": {},
     "output_type": "display_data"
    }
   ],
   "source": [
    "# train generative classifier\n",
    "seed_everything(seed)\n",
    "gc = GenerativeClassifier()\n",
    "gc.to(device).train()\n",
    "optim = torch.optim.Adam(gc.parameters(), lr=2e-4, weight_decay=0.01)\n",
    "\n",
    "t = trange(gc_training_steps)\n",
    "for i in t:\n",
    "    # get batch to train on\n",
    "    batch_idx = np.random.randint(0, len(gc_dataset), gc_batch_size)\n",
    "    x, y_hat = gc_dataset[batch_idx]\n",
    "    # apply model and compute loss\n",
    "    y = gc.forward(x.to(device)).flatten()\n",
    "    loss = F.binary_cross_entropy(y, y_hat.to(device))\n",
    "    # update model parameters\n",
    "    optim.zero_grad()\n",
    "    loss.backward()\n",
    "    optim.step()\n",
    "\n",
    "# move classifier back to cpu\n",
    "# and set it into evaluation mode\n",
    "gc = gc.to('cpu').eval()"
   ]
  },
  {
   "cell_type": "code",
   "execution_count": 15,
   "metadata": {
    "colab": {
     "base_uri": "https://localhost:8080/",
     "height": 607
    },
    "executionInfo": {
     "elapsed": 73246,
     "status": "ok",
     "timestamp": 1616202452267,
     "user": {
      "displayName": "Niclas Doll",
      "photoUrl": "",
      "userId": "03509535029183763642"
     },
     "user_tz": -60
    },
    "id": "O-KkRLZMCjEY",
    "outputId": "4a8d5c76-068f-4479-880b-439b0df20281"
   },
   "outputs": [
    {
     "data": {
      "image/png": "[encoded data removed]",
      "text/plain": [
       "<Figure size 2160x720 with 2 Axes>"
      ]
     },
     "metadata": {
      "needs_background": "light"
     },
     "output_type": "display_data"
    }
   ],
   "source": [
    "seed_everything(seed)\n",
    "# generate some samples\n",
    "with torch.no_grad():\n",
    "    z_rand = torch.empty(50, vae_z_dim).normal_(0, 1)\n",
    "    x_gen = torch.cat([\n",
    "        vae.decoder.forward(z_rand)\n",
    "        for vae in vae_per_label\n",
    "    ], dim=0)\n",
    "    # apply generative classifier\n",
    "    mask = (gc.forward(x_gen) > 0.5).squeeze()\n",
    "# convert to numpy\n",
    "x_gen = x_gen.numpy()\n",
    "mask = mask.numpy()\n",
    "# apply mask\n",
    "x_good, x_bad = x_gen.copy(), x_gen.copy()\n",
    "x_good[~mask], x_bad[mask] = 0, 0\n",
    "\n",
    "# visualize the choice of\n",
    "# the generative classifier\n",
    "_, (ax_good, ax_bad) = subplots(1, 2, tight_layout=True, figsize=(30, 10))\n",
    "ax_good.imshow(x_good.reshape(n_classes, 50, 1, in_feat).transpose(1, 2, 0, 3).reshape(50, n_classes * in_feat))\n",
    "ax_good.axis(\"off\")\n",
    "ax_bad.imshow(x_bad.reshape(n_classes, 50, 1, in_feat).transpose(1, 2, 0, 3).reshape(50, n_classes * in_feat))\n",
    "ax_bad.axis(\"off\")\n",
    "savefig(plot_dir / \"gc_good_bad.pdf\")\n",
    "show()"
   ]
  },
  {
   "cell_type": "markdown",
   "metadata": {
    "id": "N3ulIbhveUyz"
   },
   "source": [
    "# CNN Model as Baseline"
   ]
  },
  {
   "cell_type": "code",
   "execution_count": 16,
   "metadata": {
    "cellView": "code",
    "id": "AoLYwR6KRnD5"
   },
   "outputs": [],
   "source": [
    "class Classifier(nn.Module):\n",
    "    def __init__(self):\n",
    "        super().__init__()\n",
    "        self.sequential = nn.Sequential(\n",
    "            # input size: in_feat\n",
    "            nn.Linear(in_feat, N),\n",
    "            nn.LeakyReLU(inplace=True),\n",
    "            nn.BatchNorm1d(N),\n",
    "            nn.Dropout(0.1, inplace=True),\n",
    "            # state size: N\n",
    "            nn.Linear(N, M),\n",
    "            nn.LeakyReLU(inplace=True),\n",
    "            nn.BatchNorm1d(M),\n",
    "            nn.Dropout(0.1, inplace=True),\n",
    "            # state size: M\n",
    "            nn.Linear(M, K),\n",
    "            nn.LeakyReLU(inplace=True),\n",
    "            nn.BatchNorm1d(K),\n",
    "            nn.Dropout(0.1, inplace=True),\n",
    "            # state size: K\n",
    "            nn.Linear(K, n_classes),\n",
    "            nn.LogSoftmax(dim=-1)\n",
    "        )\n",
    "    def forward(self, x):\n",
    "        return self.sequential(x)"
   ]
  },
  {
   "cell_type": "markdown",
   "metadata": {
    "id": "JaHLMlOvfhxB"
   },
   "source": [
    "### Training script for the CNN Model"
   ]
  },
  {
   "cell_type": "code",
   "execution_count": 17,
   "metadata": {
    "id": "7E15yEHmSD9y"
   },
   "outputs": [],
   "source": [
    "def train_classifier(dataset):\n",
    "    seed_everything(seed)\n",
    "    # create a cnn model\n",
    "    model = Classifier()\n",
    "    # move model to device and set\n",
    "    # it in train mode\n",
    "    model.to(device).train()\n",
    "    optim = torch.optim.Adam(model.parameters(), lr=2e-4, weight_decay=0.01)\n",
    "    # values we want to track\n",
    "    train_losses, test_losses = [], []\n",
    "    weighted_f1_scores, acc_scores = [], []\n",
    "    # train loop\n",
    "    t = trange(cls_training_steps)\n",
    "    for i in t:\n",
    "        # get batch to train from\n",
    "        x_idx = np.random.randint(0, len(dataset), cls_batch_size)\n",
    "        x, y_hat = dataset[x_idx]\n",
    "        # apply model and compute loss\n",
    "        y = model.forward(x.to(device))\n",
    "        loss = F.nll_loss(y, y_hat.to(device))\n",
    "        # update model parameters\n",
    "        optim.zero_grad()\n",
    "        loss.backward()\n",
    "        optim.step()\n",
    "        # add loss value to list\n",
    "        train_losses.append(loss.item())\n",
    "\n",
    "        if (i % cls_eval_interval == 0) or (i == vae_training_steps-1):\n",
    "            # evaluate model\n",
    "            model.eval()\n",
    "            with torch.no_grad():\n",
    "                # apply model to test data\n",
    "                y = model.forward(x_test.to(device))\n",
    "                loss = F.nll_loss(y, y_test.to(device))\n",
    "                # add loss to list\n",
    "                test_losses.append(loss.item())\n",
    "                # get predictions and compute f1-scores\n",
    "                y_pred = y.argmax(-1).cpu().numpy()\n",
    "                weighted_f1_scores.append(f1_score(y_test.numpy(), y_pred, average='weighted'))\n",
    "                acc_scores.append(accuracy_score(y_test.numpy(), y_pred))\n",
    "            # back to training the model\n",
    "            model.train()\n",
    "    # move model back to cpu and\n",
    "    # set it to evaluation mode\n",
    "    model.to('cpu').eval()\n",
    "    # return model and tracked values\n",
    "    return model, {\n",
    "        'train-losses': train_losses, \n",
    "        'test-losses':  test_losses, \n",
    "        'weighted-f1':  weighted_f1_scores, \n",
    "        'acc':          acc_scores\n",
    "    }"
   ]
  },
  {
   "cell_type": "markdown",
   "metadata": {
    "id": "dTEdcDSwfn0g"
   },
   "source": [
    "### Training models\n",
    "Here we train three models, i.e.\n",
    " - one trained on only the originally provided (reduced!) dataset\n",
    " - one trained on the original together with some generated samples\n",
    " - and one where the generated examples are filtered by the generative classifier"
   ]
  },
  {
   "cell_type": "code",
   "execution_count": 18,
   "metadata": {
    "colab": {
     "base_uri": "https://localhost:8080/",
     "height": 370,
     "referenced_widgets": [
      "985ebec895ba441a8f786bd409d086d0",
      "79cc7fb2e84b48b48a11d37163b08b18",
      "6371c0f1ffe1489595430e9ab4f4b866",
      "cd203147986b4b7e9bcdb3595f4eb2f0",
      "53a43d96fc6c490895ff9a7fd8fa0440",
      "bf604a4721284d47bb5ee491e3099a7a",
      "44c3670e60d14762853ac2e15cef2381",
      "6431cfab14604b0db2474dbd760f5dcd"
     ]
    },
    "executionInfo": {
     "elapsed": 90574,
     "status": "ok",
     "timestamp": 1616202469645,
     "user": {
      "displayName": "Niclas Doll",
      "photoUrl": "",
      "userId": "03509535029183763642"
     },
     "user_tz": -60
    },
    "id": "ldIkEdrgc3Cl",
    "outputId": "d473f1cf-3c6f-4144-ce10-f589dff3af45"
   },
   "outputs": [
    {
     "data": {
      "application/vnd.jupyter.widget-view+json": {
       "model_id": "f080c8c6b39d4845b583bb3afa1c51ac",
       "version_major": 2,
       "version_minor": 0
      },
      "text/plain": [
       "  0%|          | 0/2000 [00:00<?, ?it/s]"
      ]
     },
     "metadata": {},
     "output_type": "display_data"
    },
    {
     "data": {
      "image/png": "[encoded data removed]",
      "text/plain": [
       "<Figure size 720x360 with 1 Axes>"
      ]
     },
     "metadata": {
      "needs_background": "light"
     },
     "output_type": "display_data"
    }
   ],
   "source": [
    "# build dataset of only the original samples\n",
    "orig_train_dataset = torch.utils.data.TensorDataset(\n",
    "    torch.FloatTensor(np.concatenate(train_per_label, axis=0)),\n",
    "    torch.LongTensor(np.concatenate([\n",
    "        (np.zeros(X.shape[0]) + i) for i, X in enumerate(train_per_label)\n",
    "    ], axis=0))\n",
    ")\n",
    "# train model on dataset\n",
    "model_orig, metrics_orig = train_classifier(orig_train_dataset)\n",
    "# plot the losses\n",
    "figure(figsize=(10, 5))\n",
    "grid()\n",
    "plot(metrics_orig['train-losses'], label='train')\n",
    "ticks = [i * cls_eval_interval for i in range(len(metrics_orig['test-losses']))]\n",
    "plot(ticks, metrics_orig['test-losses'], label='test')\n",
    "legend()\n",
    "savefig(plot_dir / \"classifier_loss_orig.pdf\")\n",
    "show()"
   ]
  },
  {
   "cell_type": "code",
   "execution_count": 19,
   "metadata": {
    "colab": {
     "base_uri": "https://localhost:8080/",
     "height": 370,
     "referenced_widgets": [
      "fb7d4fb5d11f46c6b8f351a04699d0bb",
      "c4be43f13de34e95a70b57fe16f85060",
      "31e453cac5dc4001a4e812920d44ee28",
      "edefdc2862c741cfa6e953bdb4a148e7",
      "1df1a60871f945259792d81b045cb61a",
      "3c0e823ce8694f93a54ca81bb89182a7",
      "25ee0b81be90427fb3bc86137eed9b68",
      "54d9f65453294fd3ba1733ecfa360418"
     ]
    },
    "executionInfo": {
     "elapsed": 108246,
     "status": "ok",
     "timestamp": 1616202487348,
     "user": {
      "displayName": "Niclas Doll",
      "photoUrl": "",
      "userId": "03509535029183763642"
     },
     "user_tz": -60
    },
    "id": "RV5S9V_MX2DY",
    "outputId": "2fd046a3-b1a7-4db0-f9d1-d1f989463573"
   },
   "outputs": [
    {
     "data": {
      "application/vnd.jupyter.widget-view+json": {
       "model_id": "ef2afab65ec14c0787c43e72b9346083",
       "version_major": 2,
       "version_minor": 0
      },
      "text/plain": [
       "  0%|          | 0/2000 [00:00<?, ?it/s]"
      ]
     },
     "metadata": {},
     "output_type": "display_data"
    },
    {
     "data": {
      "image/png": "[encoded data removed]",
      "text/plain": [
       "<Figure size 720x360 with 1 Axes>"
      ]
     },
     "metadata": {
      "needs_background": "light"
     },
     "output_type": "display_data"
    }
   ],
   "source": [
    "seed_everything(seed)\n",
    "# build a dataset with both the original samples\n",
    "# and also some generated ones using the vaes\n",
    "with torch.no_grad():\n",
    "    z_rand_per_class = [torch.empty(n_generated, vae_z_dim).normal_(0, 1) for n_generated in n_generated_per_class]\n",
    "    generated_per_label = [\n",
    "        vae.decoder.forward(z_rand).numpy()\n",
    "        for (vae, z_rand) in zip(vae_per_label, z_rand_per_class)\n",
    "    ]\n",
    "# create a combined dataset from the original and generated samples\n",
    "full_train_x = [\n",
    "    np.concatenate(both, axis=0)\n",
    "    for both in zip(train_per_label, generated_per_label)\n",
    "]\n",
    "full_train_y = [\n",
    "    (np.zeros(X.shape[:1]) + i) \n",
    "    for i, X in enumerate(full_train_x)\n",
    "]\n",
    "# pack all of this in a dataset\n",
    "full_train_dataset = torch.utils.data.TensorDataset(\n",
    "    torch.FloatTensor(np.concatenate(full_train_x, axis=0)),\n",
    "    torch.LongTensor(np.concatenate(full_train_y, axis=0))\n",
    ")\n",
    "# train model on both original and generated data\n",
    "model_gen, metrics_gen = train_classifier(full_train_dataset)\n",
    "# plot training and test losses\n",
    "figure(figsize=(10, 5))\n",
    "grid()\n",
    "plot(metrics_gen['train-losses'], label='train')\n",
    "ticks = [i * cls_eval_interval for i in range(len(metrics_gen['test-losses']))]\n",
    "plot(ticks, metrics_gen['test-losses'], label='test')\n",
    "legend()\n",
    "savefig(plot_dir / \"classifier_loss_full.pdf\")\n",
    "show()"
   ]
  },
  {
   "cell_type": "code",
   "execution_count": 20,
   "metadata": {
    "colab": {
     "base_uri": "https://localhost:8080/",
     "height": 370,
     "referenced_widgets": [
      "ad8e5cf38f2d4a5a94af71e53499b7b7",
      "5075ae5669ea41aaa00b095678ba0ee3",
      "ba05b8bd93c1435b97259be770763051",
      "fe20b0b974c7491ebc93f39965e8b8cb",
      "f92d6f8f106a4c54bf1b03941f24ab1b",
      "2e566d7163b64637997322bb8f747502",
      "cc43aa2597284cddb5a5981935fba4eb",
      "f48be41e5f85408eb7f964c2e0557a6b"
     ]
    },
    "executionInfo": {
     "elapsed": 126019,
     "status": "ok",
     "timestamp": 1616202505153,
     "user": {
      "displayName": "Niclas Doll",
      "photoUrl": "",
      "userId": "03509535029183763642"
     },
     "user_tz": -60
    },
    "id": "U47moIUQIy7L",
    "outputId": "420b6530-c6f6-4df3-9972-8dc9d141569f"
   },
   "outputs": [
    {
     "name": "stdout",
     "output_type": "stream",
     "text": [
      "Generated Examples: [500, 500]\n"
     ]
    },
    {
     "data": {
      "application/vnd.jupyter.widget-view+json": {
       "model_id": "a92b9852ce7244fe8c75c7aea116bbe3",
       "version_major": 2,
       "version_minor": 0
      },
      "text/plain": [
       "  0%|          | 0/2000 [00:00<?, ?it/s]"
      ]
     },
     "metadata": {},
     "output_type": "display_data"
    },
    {
     "data": {
      "image/png": "[encoded data removed]",
      "text/plain": [
       "<Figure size 720x360 with 1 Axes>"
      ]
     },
     "metadata": {
      "needs_background": "light"
     },
     "output_type": "display_data"
    }
   ],
   "source": [
    "seed_everything(seed)\n",
    "# build a dataset with both the original samples\n",
    "# and also some generated ones using the vaes\n",
    "with torch.no_grad():\n",
    "    z_rand_per_class = [torch.empty(n_generated * 30, vae_z_dim).normal_(0, 1) for n_generated in n_generated_per_class]\n",
    "    generated_per_label = [\n",
    "        vae.decoder.forward(z_rand)\n",
    "        for (vae, z_rand) in zip(vae_per_label, z_rand_per_class)\n",
    "    ]\n",
    "    # apply generative classifier\n",
    "    masks_per_label = [\n",
    "        gc.forward(x_gen).flatten() > 0.5\n",
    "        for x_gen in generated_per_label\n",
    "    ]\n",
    "    generated_per_label = [\n",
    "        x_gen[mask, ...].numpy()[:n_generated, ...]\n",
    "        for x_gen, mask, n_generated in zip(generated_per_label, masks_per_label, n_generated_per_class)\n",
    "    ]\n",
    "    print(f\"Generated Examples: {[x_gen.shape[0] for x_gen in generated_per_label]}\")\n",
    "\n",
    "# create a combined dataset from the original and generated samples\n",
    "full_train_x = [\n",
    "    np.concatenate(both, axis=0)\n",
    "    for both in zip(train_per_label, generated_per_label)\n",
    "]\n",
    "full_train_y = [\n",
    "    (np.zeros(X.shape[:1]) + i) \n",
    "    for i, X in enumerate(full_train_x)\n",
    "]\n",
    "# pack all of this in a dataset\n",
    "full_train_dataset = torch.utils.data.TensorDataset(\n",
    "    torch.FloatTensor(np.concatenate(full_train_x, axis=0)),\n",
    "    torch.LongTensor(np.concatenate(full_train_y, axis=0))\n",
    ")\n",
    "# train model on both original and generated data\n",
    "model_gen_gc, metrics_gen_gc = train_classifier(full_train_dataset)\n",
    "# plot training and test losses\n",
    "figure(figsize=(10, 5))\n",
    "grid()\n",
    "plot(metrics_gen_gc['train-losses'], label='train')\n",
    "ticks = [i * cls_eval_interval for i in range(len(metrics_gen_gc['test-losses']))]\n",
    "plot(ticks, metrics_gen_gc['test-losses'], label='test')\n",
    "legend()\n",
    "savefig(plot_dir / \"classifier_loss_gc.pdf\")\n",
    "show()"
   ]
  },
  {
   "cell_type": "markdown",
   "metadata": {
    "id": "VzUwQdu6fZSE"
   },
   "source": [
    "### Comparisson of F1-Scores"
   ]
  },
  {
   "cell_type": "code",
   "execution_count": 21,
   "metadata": {},
   "outputs": [
    {
     "data": {
      "image/png": "[encoded data removed]",
      "text/plain": [
       "<Figure size 720x360 with 1 Axes>"
      ]
     },
     "metadata": {
      "needs_background": "light"
     },
     "output_type": "display_data"
    }
   ],
   "source": [
    "# also plot\n",
    "figure(tight_layout=True, figsize=(10, 5))\n",
    "grid()\n",
    "plot(metrics_orig[\"acc\"], label=\"w/o gen\")\n",
    "plot(metrics_gen[\"acc\"], label=\"w/ gen\")\n",
    "plot(metrics_gen_gc[\"acc\"], label=\"w/ gen + gc\")\n",
    "legend()\n",
    "savefig(plot_dir / \"accuracies_graph.pdf\")\n",
    "show()\n",
    "\n",
    "# y = [\n",
    "#     round(max(metrics_orig['acc']), 4),\n",
    "#     round(max(metrics_gen['acc']), 4),\n",
    "#     round(max(metrics_gen_gc['acc']), 4),\n",
    "# ]\n",
    "# figure(tight_layout=True, figsize=(10, 5))  \n",
    "# barh([0, 1, 2], y, tick_label=[\"w/o gen\", \"w/ gen\", \"w/ gen + gc\"])\n",
    "# for i, v in enumerate(y):\n",
    "#     plt.text(v, i, f\" {str(v)}\", color=\"blue\", va=\"center\", fontweight=\"bold\")\n",
    "# savefig(plot_dir / \"accuracies.pdf\")\n",
    "# show()"
   ]
  },
  {
   "cell_type": "code",
   "execution_count": 22,
   "metadata": {},
   "outputs": [
    {
     "data": {
      "image/png": "[encoded data removed]",
      "text/plain": [
       "<Figure size 720x360 with 1 Axes>"
      ]
     },
     "metadata": {
      "needs_background": "light"
     },
     "output_type": "display_data"
    }
   ],
   "source": [
    "# also plot\n",
    "figure(tight_layout=True, figsize=(10, 5))\n",
    "grid()\n",
    "plot(metrics_orig[\"weighted-f1\"], label=\"w/o gen\")\n",
    "plot(metrics_gen[\"weighted-f1\"], label=\"w/ gen\")\n",
    "plot(metrics_gen_gc[\"weighted-f1\"], label=\"w/ gen + gc\")\n",
    "legend()\n",
    "savefig(plot_dir / \"weighted_f1_graph.pdf\")\n",
    "show()\n",
    "\n",
    "# y = [\n",
    "#     round(max(metrics_orig['weighted-f1']), 4),\n",
    "#     round(max(metrics_gen['weighted-f1']), 4),\n",
    "#     round(max(metrics_gen_gc['weighted-f1']), 4),\n",
    "# ]\n",
    "# figure(tight_layout=True, figsize=(10, 5))  \n",
    "# barh([0, 1, 2], y, tick_label=[\"w/o gen\", \"w/ gen\", \"w/ gen + gc\"])\n",
    "# for i, v in enumerate(y):\n",
    "#     plt.text(v, i, f\" {str(v)}\", color=\"blue\", va=\"center\", fontweight=\"bold\")\n",
    "# savefig(plot_dir / \"weighted_f1.pdf\")\n",
    "# close()"
   ]
  },
  {
   "cell_type": "code",
   "execution_count": 23,
   "metadata": {},
   "outputs": [
    {
     "data": {
      "text/html": [
       "<div>\n",
       "<style scoped>\n",
       "    .dataframe tbody tr th:only-of-type {\n",
       "        vertical-align: middle;\n",
       "    }\n",
       "\n",
       "    .dataframe tbody tr th {\n",
       "        vertical-align: top;\n",
       "    }\n",
       "\n",
       "    .dataframe thead th {\n",
       "        text-align: right;\n",
       "    }\n",
       "</style>\n",
       "<table border=\"1\" class=\"dataframe\">\n",
       "  <thead>\n",
       "    <tr style=\"text-align: right;\">\n",
       "      <th></th>\n",
       "      <th>0</th>\n",
       "    </tr>\n",
       "  </thead>\n",
       "  <tbody>\n",
       "    <tr>\n",
       "      <th>f1-orig</th>\n",
       "      <td>0.7627</td>\n",
       "    </tr>\n",
       "    <tr>\n",
       "      <th>f1-gen</th>\n",
       "      <td>0.7714</td>\n",
       "    </tr>\n",
       "    <tr>\n",
       "      <th>f1-gen+gc</th>\n",
       "      <td>0.7731</td>\n",
       "    </tr>\n",
       "    <tr>\n",
       "      <th>acc-orig</th>\n",
       "      <td>0.7568</td>\n",
       "    </tr>\n",
       "    <tr>\n",
       "      <th>acc-gen</th>\n",
       "      <td>0.7838</td>\n",
       "    </tr>\n",
       "    <tr>\n",
       "      <th>acc-gen+gc</th>\n",
       "      <td>0.7703</td>\n",
       "    </tr>\n",
       "  </tbody>\n",
       "</table>\n",
       "</div>"
      ],
      "text/plain": [
       "                 0\n",
       "f1-orig     0.7627\n",
       "f1-gen      0.7714\n",
       "f1-gen+gc   0.7731\n",
       "acc-orig    0.7568\n",
       "acc-gen     0.7838\n",
       "acc-gen+gc  0.7703"
      ]
     },
     "execution_count": 23,
     "metadata": {},
     "output_type": "execute_result"
    }
   ],
   "source": [
    "df_results = pd.DataFrame.from_dict({\n",
    "    \"seed\": [seed],\n",
    "    \"dataset_name\": [dataset_name],\n",
    "    \"mix_data\": [mix_data],\n",
    "    \"n_total_examples\": [n_total_examples],\n",
    "    \"n_generated_perc\": [n_generated_perc],\n",
    "    \"balancing\": [balancing],\n",
    "    \"vae_z_dim\": [vae_z_dim],\n",
    "    \"vae_training_steps\": [vae_training_steps],\n",
    "    \"vae_beta\": [vae_beta],\n",
    "    \"vae_batch_size\": [vae_batch_size],\n",
    "    \"gc_training_steps\": [gc_training_steps],\n",
    "    \"gc_batch_size\": [gc_batch_size],\n",
    "    \"gc_std\": [gc_std],\n",
    "    \"cls_training_steps\": [cls_training_steps],\n",
    "    \"cls_batch_size\": [cls_batch_size],\n",
    "    \"cls_eval_interval\": [cls_eval_interval],\n",
    "    \"N\": [N],\n",
    "    \"M\": [M],\n",
    "    \"K\": [K],\n",
    "    \"f1-orig\": [round(max(metrics_orig[\"weighted-f1\"]), 4)],\n",
    "    \"f1-gen\": [round(max(metrics_gen[\"weighted-f1\"]), 4)],\n",
    "    \"f1-gen+gc\": [round(max(metrics_gen_gc[\"weighted-f1\"]), 4)],\n",
    "    \"acc-orig\": [round(max(metrics_orig[\"acc\"]), 4)],\n",
    "    \"acc-gen\": [round(max(metrics_gen[\"acc\"]), 4)],\n",
    "    \"acc-gen+gc\": [round(max(metrics_gen_gc[\"acc\"]), 4)],\n",
    "})\n",
    "df_results[[\"f1-orig\", \"f1-gen\", \"f1-gen+gc\", \"acc-orig\", \"acc-gen\", \"acc-gen+gc\"]].T"
   ]
  },
  {
   "cell_type": "code",
   "execution_count": 24,
   "metadata": {},
   "outputs": [],
   "source": [
    "results_path = plot_root / \"results.csv\"\n",
    "if results_path.exists():\n",
    "    df_saved = pd.read_csv(results_path, index_col=0, header=None).T\n",
    "    df_results = pd.concat([df_saved, df_results])\n",
    "df_results.T.to_csv(results_path, header=False)"
   ]
  },
  {
   "cell_type": "code",
   "execution_count": 25,
   "metadata": {},
   "outputs": [
    {
     "data": {
      "application/javascript": [
       "IPython.notebook.save_checkpoint();"
      ],
      "text/plain": [
       "<IPython.core.display.Javascript object>"
      ]
     },
     "metadata": {},
     "output_type": "display_data"
    }
   ],
   "source": [
    "import time\n",
    "from IPython.display import display, Javascript\n",
    "import hashlib\n",
    "\n",
    "def save_notebook(file_path):\n",
    "    start_md5 = hashlib.md5(open(file_path,'rb').read()).hexdigest()\n",
    "    display(Javascript('IPython.notebook.save_checkpoint();'))\n",
    "    current_md5 = start_md5\n",
    "    \n",
    "    while start_md5 == current_md5:\n",
    "        time.sleep(1)\n",
    "        current_md5 = hashlib.md5(open(file_path,'rb').read()).hexdigest()\n",
    "\n",
    "from nbconvert import HTMLExporter\n",
    "import codecs\n",
    "import nbformat\n",
    "\n",
    "notebook_name = 'PROBEN1.ipynb'\n",
    "output_file_name = plot_dir / 'output.html'\n",
    "\n",
    "save_notebook(notebook_name)\n",
    "\n",
    "exporter = HTMLExporter()\n",
    "output_notebook = nbformat.read(notebook_name, as_version=4)\n",
    "\n",
    "output, resources = exporter.from_notebook_node(output_notebook)\n",
    "codecs.open(output_file_name, 'w', encoding='utf-8').write(output)"
   ]
  }
 ],
 "metadata": {
  "accelerator": "GPU",
  "colab": {
   "authorship_tag": "ABX9TyO/+39OM8bu42YXk/Z343vy",
   "collapsed_sections": [],
   "name": "SavingHenriSeinAss_10.ipynb",
   "provenance": []
  },
  "kernelspec": {
   "display_name": "Python 3",
   "language": "python",
   "name": "python3"
  },
  "language_info": {
   "codemirror_mode": {
    "name": "ipython",
    "version": 3
   },
   "file_extension": ".py",
   "mimetype": "text/x-python",
   "name": "python",
   "nbconvert_exporter": "python",
   "pygments_lexer": "ipython3",
   "version": "3.8.0"
  },
  "widgets": {
   "application/vnd.jupyter.widget-state+json": {
    "071570fd8f7346c7a21fa3a416f0a626": {
     "model_module": "@jupyter-widgets/controls",
     "model_name": "HTMLModel",
     "state": {
      "_dom_classes": [],
      "_model_module": "@jupyter-widgets/controls",
      "_model_module_version": "1.5.0",
      "_model_name": "HTMLModel",
      "_view_count": null,
      "_view_module": "@jupyter-widgets/controls",
      "_view_module_version": "1.5.0",
      "_view_name": "HTMLView",
      "description": "",
      "description_tooltip": null,
      "layout": "IPY_MODEL_0857acc107bb4f54a5044cfd0695a5f3",
      "placeholder": "​",
      "style": "IPY_MODEL_a726fbc5b5e847eab4278a2d032d88a3",
      "value": " 800/800 [00:02&lt;00:00, 298.13it/s]"
     }
    },
    "0857acc107bb4f54a5044cfd0695a5f3": {
     "model_module": "@jupyter-widgets/base",
     "model_name": "LayoutModel",
     "state": {
      "_model_module": "@jupyter-widgets/base",
      "_model_module_version": "1.2.0",
      "_model_name": "LayoutModel",
      "_view_count": null,
      "_view_module": "@jupyter-widgets/base",
      "_view_module_version": "1.2.0",
      "_view_name": "LayoutView",
      "align_content": null,
      "align_items": null,
      "align_self": null,
      "border": null,
      "bottom": null,
      "display": null,
      "flex": null,
      "flex_flow": null,
      "grid_area": null,
      "grid_auto_columns": null,
      "grid_auto_flow": null,
      "grid_auto_rows": null,
      "grid_column": null,
      "grid_gap": null,
      "grid_row": null,
      "grid_template_areas": null,
      "grid_template_columns": null,
      "grid_template_rows": null,
      "height": null,
      "justify_content": null,
      "justify_items": null,
      "left": null,
      "margin": null,
      "max_height": null,
      "max_width": null,
      "min_height": null,
      "min_width": null,
      "object_fit": null,
      "object_position": null,
      "order": null,
      "overflow": null,
      "overflow_x": null,
      "overflow_y": null,
      "padding": null,
      "right": null,
      "top": null,
      "visibility": null,
      "width": null
     }
    },
    "1df1a60871f945259792d81b045cb61a": {
     "model_module": "@jupyter-widgets/controls",
     "model_name": "ProgressStyleModel",
     "state": {
      "_model_module": "@jupyter-widgets/controls",
      "_model_module_version": "1.5.0",
      "_model_name": "ProgressStyleModel",
      "_view_count": null,
      "_view_module": "@jupyter-widgets/base",
      "_view_module_version": "1.2.0",
      "_view_name": "StyleView",
      "bar_color": null,
      "description_width": "initial"
     }
    },
    "25ee0b81be90427fb3bc86137eed9b68": {
     "model_module": "@jupyter-widgets/controls",
     "model_name": "DescriptionStyleModel",
     "state": {
      "_model_module": "@jupyter-widgets/controls",
      "_model_module_version": "1.5.0",
      "_model_name": "DescriptionStyleModel",
      "_view_count": null,
      "_view_module": "@jupyter-widgets/base",
      "_view_module_version": "1.2.0",
      "_view_name": "StyleView",
      "description_width": ""
     }
    },
    "2df161797e624cae8d7cce1e64a428cb": {
     "model_module": "@jupyter-widgets/controls",
     "model_name": "ProgressStyleModel",
     "state": {
      "_model_module": "@jupyter-widgets/controls",
      "_model_module_version": "1.5.0",
      "_model_name": "ProgressStyleModel",
      "_view_count": null,
      "_view_module": "@jupyter-widgets/base",
      "_view_module_version": "1.2.0",
      "_view_name": "StyleView",
      "bar_color": null,
      "description_width": "initial"
     }
    },
    "2e566d7163b64637997322bb8f747502": {
     "model_module": "@jupyter-widgets/base",
     "model_name": "LayoutModel",
     "state": {
      "_model_module": "@jupyter-widgets/base",
      "_model_module_version": "1.2.0",
      "_model_name": "LayoutModel",
      "_view_count": null,
      "_view_module": "@jupyter-widgets/base",
      "_view_module_version": "1.2.0",
      "_view_name": "LayoutView",
      "align_content": null,
      "align_items": null,
      "align_self": null,
      "border": null,
      "bottom": null,
      "display": null,
      "flex": null,
      "flex_flow": null,
      "grid_area": null,
      "grid_auto_columns": null,
      "grid_auto_flow": null,
      "grid_auto_rows": null,
      "grid_column": null,
      "grid_gap": null,
      "grid_row": null,
      "grid_template_areas": null,
      "grid_template_columns": null,
      "grid_template_rows": null,
      "height": null,
      "justify_content": null,
      "justify_items": null,
      "left": null,
      "margin": null,
      "max_height": null,
      "max_width": null,
      "min_height": null,
      "min_width": null,
      "object_fit": null,
      "object_position": null,
      "order": null,
      "overflow": null,
      "overflow_x": null,
      "overflow_y": null,
      "padding": null,
      "right": null,
      "top": null,
      "visibility": null,
      "width": null
     }
    },
    "31e453cac5dc4001a4e812920d44ee28": {
     "model_module": "@jupyter-widgets/controls",
     "model_name": "FloatProgressModel",
     "state": {
      "_dom_classes": [],
      "_model_module": "@jupyter-widgets/controls",
      "_model_module_version": "1.5.0",
      "_model_name": "FloatProgressModel",
      "_view_count": null,
      "_view_module": "@jupyter-widgets/controls",
      "_view_module_version": "1.5.0",
      "_view_name": "ProgressView",
      "bar_style": "success",
      "description": "100%",
      "description_tooltip": null,
      "layout": "IPY_MODEL_3c0e823ce8694f93a54ca81bb89182a7",
      "max": 500,
      "min": 0,
      "orientation": "horizontal",
      "style": "IPY_MODEL_1df1a60871f945259792d81b045cb61a",
      "value": 500
     }
    },
    "3c0e823ce8694f93a54ca81bb89182a7": {
     "model_module": "@jupyter-widgets/base",
     "model_name": "LayoutModel",
     "state": {
      "_model_module": "@jupyter-widgets/base",
      "_model_module_version": "1.2.0",
      "_model_name": "LayoutModel",
      "_view_count": null,
      "_view_module": "@jupyter-widgets/base",
      "_view_module_version": "1.2.0",
      "_view_name": "LayoutView",
      "align_content": null,
      "align_items": null,
      "align_self": null,
      "border": null,
      "bottom": null,
      "display": null,
      "flex": null,
      "flex_flow": null,
      "grid_area": null,
      "grid_auto_columns": null,
      "grid_auto_flow": null,
      "grid_auto_rows": null,
      "grid_column": null,
      "grid_gap": null,
      "grid_row": null,
      "grid_template_areas": null,
      "grid_template_columns": null,
      "grid_template_rows": null,
      "height": null,
      "justify_content": null,
      "justify_items": null,
      "left": null,
      "margin": null,
      "max_height": null,
      "max_width": null,
      "min_height": null,
      "min_width": null,
      "object_fit": null,
      "object_position": null,
      "order": null,
      "overflow": null,
      "overflow_x": null,
      "overflow_y": null,
      "padding": null,
      "right": null,
      "top": null,
      "visibility": null,
      "width": null
     }
    },
    "44c3670e60d14762853ac2e15cef2381": {
     "model_module": "@jupyter-widgets/controls",
     "model_name": "DescriptionStyleModel",
     "state": {
      "_model_module": "@jupyter-widgets/controls",
      "_model_module_version": "1.5.0",
      "_model_name": "DescriptionStyleModel",
      "_view_count": null,
      "_view_module": "@jupyter-widgets/base",
      "_view_module_version": "1.2.0",
      "_view_name": "StyleView",
      "description_width": ""
     }
    },
    "5075ae5669ea41aaa00b095678ba0ee3": {
     "model_module": "@jupyter-widgets/base",
     "model_name": "LayoutModel",
     "state": {
      "_model_module": "@jupyter-widgets/base",
      "_model_module_version": "1.2.0",
      "_model_name": "LayoutModel",
      "_view_count": null,
      "_view_module": "@jupyter-widgets/base",
      "_view_module_version": "1.2.0",
      "_view_name": "LayoutView",
      "align_content": null,
      "align_items": null,
      "align_self": null,
      "border": null,
      "bottom": null,
      "display": null,
      "flex": null,
      "flex_flow": null,
      "grid_area": null,
      "grid_auto_columns": null,
      "grid_auto_flow": null,
      "grid_auto_rows": null,
      "grid_column": null,
      "grid_gap": null,
      "grid_row": null,
      "grid_template_areas": null,
      "grid_template_columns": null,
      "grid_template_rows": null,
      "height": null,
      "justify_content": null,
      "justify_items": null,
      "left": null,
      "margin": null,
      "max_height": null,
      "max_width": null,
      "min_height": null,
      "min_width": null,
      "object_fit": null,
      "object_position": null,
      "order": null,
      "overflow": null,
      "overflow_x": null,
      "overflow_y": null,
      "padding": null,
      "right": null,
      "top": null,
      "visibility": null,
      "width": null
     }
    },
    "53a43d96fc6c490895ff9a7fd8fa0440": {
     "model_module": "@jupyter-widgets/controls",
     "model_name": "ProgressStyleModel",
     "state": {
      "_model_module": "@jupyter-widgets/controls",
      "_model_module_version": "1.5.0",
      "_model_name": "ProgressStyleModel",
      "_view_count": null,
      "_view_module": "@jupyter-widgets/base",
      "_view_module_version": "1.2.0",
      "_view_name": "StyleView",
      "bar_color": null,
      "description_width": "initial"
     }
    },
    "54d9f65453294fd3ba1733ecfa360418": {
     "model_module": "@jupyter-widgets/base",
     "model_name": "LayoutModel",
     "state": {
      "_model_module": "@jupyter-widgets/base",
      "_model_module_version": "1.2.0",
      "_model_name": "LayoutModel",
      "_view_count": null,
      "_view_module": "@jupyter-widgets/base",
      "_view_module_version": "1.2.0",
      "_view_name": "LayoutView",
      "align_content": null,
      "align_items": null,
      "align_self": null,
      "border": null,
      "bottom": null,
      "display": null,
      "flex": null,
      "flex_flow": null,
      "grid_area": null,
      "grid_auto_columns": null,
      "grid_auto_flow": null,
      "grid_auto_rows": null,
      "grid_column": null,
      "grid_gap": null,
      "grid_row": null,
      "grid_template_areas": null,
      "grid_template_columns": null,
      "grid_template_rows": null,
      "height": null,
      "justify_content": null,
      "justify_items": null,
      "left": null,
      "margin": null,
      "max_height": null,
      "max_width": null,
      "min_height": null,
      "min_width": null,
      "object_fit": null,
      "object_position": null,
      "order": null,
      "overflow": null,
      "overflow_x": null,
      "overflow_y": null,
      "padding": null,
      "right": null,
      "top": null,
      "visibility": null,
      "width": null
     }
    },
    "6371c0f1ffe1489595430e9ab4f4b866": {
     "model_module": "@jupyter-widgets/controls",
     "model_name": "FloatProgressModel",
     "state": {
      "_dom_classes": [],
      "_model_module": "@jupyter-widgets/controls",
      "_model_module_version": "1.5.0",
      "_model_name": "FloatProgressModel",
      "_view_count": null,
      "_view_module": "@jupyter-widgets/controls",
      "_view_module_version": "1.5.0",
      "_view_name": "ProgressView",
      "bar_style": "success",
      "description": "100%",
      "description_tooltip": null,
      "layout": "IPY_MODEL_bf604a4721284d47bb5ee491e3099a7a",
      "max": 500,
      "min": 0,
      "orientation": "horizontal",
      "style": "IPY_MODEL_53a43d96fc6c490895ff9a7fd8fa0440",
      "value": 500
     }
    },
    "6431cfab14604b0db2474dbd760f5dcd": {
     "model_module": "@jupyter-widgets/base",
     "model_name": "LayoutModel",
     "state": {
      "_model_module": "@jupyter-widgets/base",
      "_model_module_version": "1.2.0",
      "_model_name": "LayoutModel",
      "_view_count": null,
      "_view_module": "@jupyter-widgets/base",
      "_view_module_version": "1.2.0",
      "_view_name": "LayoutView",
      "align_content": null,
      "align_items": null,
      "align_self": null,
      "border": null,
      "bottom": null,
      "display": null,
      "flex": null,
      "flex_flow": null,
      "grid_area": null,
      "grid_auto_columns": null,
      "grid_auto_flow": null,
      "grid_auto_rows": null,
      "grid_column": null,
      "grid_gap": null,
      "grid_row": null,
      "grid_template_areas": null,
      "grid_template_columns": null,
      "grid_template_rows": null,
      "height": null,
      "justify_content": null,
      "justify_items": null,
      "left": null,
      "margin": null,
      "max_height": null,
      "max_width": null,
      "min_height": null,
      "min_width": null,
      "object_fit": null,
      "object_position": null,
      "order": null,
      "overflow": null,
      "overflow_x": null,
      "overflow_y": null,
      "padding": null,
      "right": null,
      "top": null,
      "visibility": null,
      "width": null
     }
    },
    "79cc7fb2e84b48b48a11d37163b08b18": {
     "model_module": "@jupyter-widgets/base",
     "model_name": "LayoutModel",
     "state": {
      "_model_module": "@jupyter-widgets/base",
      "_model_module_version": "1.2.0",
      "_model_name": "LayoutModel",
      "_view_count": null,
      "_view_module": "@jupyter-widgets/base",
      "_view_module_version": "1.2.0",
      "_view_name": "LayoutView",
      "align_content": null,
      "align_items": null,
      "align_self": null,
      "border": null,
      "bottom": null,
      "display": null,
      "flex": null,
      "flex_flow": null,
      "grid_area": null,
      "grid_auto_columns": null,
      "grid_auto_flow": null,
      "grid_auto_rows": null,
      "grid_column": null,
      "grid_gap": null,
      "grid_row": null,
      "grid_template_areas": null,
      "grid_template_columns": null,
      "grid_template_rows": null,
      "height": null,
      "justify_content": null,
      "justify_items": null,
      "left": null,
      "margin": null,
      "max_height": null,
      "max_width": null,
      "min_height": null,
      "min_width": null,
      "object_fit": null,
      "object_position": null,
      "order": null,
      "overflow": null,
      "overflow_x": null,
      "overflow_y": null,
      "padding": null,
      "right": null,
      "top": null,
      "visibility": null,
      "width": null
     }
    },
    "90639a54359044d292092de9b8673868": {
     "model_module": "@jupyter-widgets/controls",
     "model_name": "HBoxModel",
     "state": {
      "_dom_classes": [],
      "_model_module": "@jupyter-widgets/controls",
      "_model_module_version": "1.5.0",
      "_model_name": "HBoxModel",
      "_view_count": null,
      "_view_module": "@jupyter-widgets/controls",
      "_view_module_version": "1.5.0",
      "_view_name": "HBoxView",
      "box_style": "",
      "children": [
       "IPY_MODEL_b0a0c54a239f432d944f2b4ccee5a993",
       "IPY_MODEL_071570fd8f7346c7a21fa3a416f0a626"
      ],
      "layout": "IPY_MODEL_ef5fdaa8e1904e739f1d8787174232d9"
     }
    },
    "985ebec895ba441a8f786bd409d086d0": {
     "model_module": "@jupyter-widgets/controls",
     "model_name": "HBoxModel",
     "state": {
      "_dom_classes": [],
      "_model_module": "@jupyter-widgets/controls",
      "_model_module_version": "1.5.0",
      "_model_name": "HBoxModel",
      "_view_count": null,
      "_view_module": "@jupyter-widgets/controls",
      "_view_module_version": "1.5.0",
      "_view_name": "HBoxView",
      "box_style": "",
      "children": [
       "IPY_MODEL_6371c0f1ffe1489595430e9ab4f4b866",
       "IPY_MODEL_cd203147986b4b7e9bcdb3595f4eb2f0"
      ],
      "layout": "IPY_MODEL_79cc7fb2e84b48b48a11d37163b08b18"
     }
    },
    "a726fbc5b5e847eab4278a2d032d88a3": {
     "model_module": "@jupyter-widgets/controls",
     "model_name": "DescriptionStyleModel",
     "state": {
      "_model_module": "@jupyter-widgets/controls",
      "_model_module_version": "1.5.0",
      "_model_name": "DescriptionStyleModel",
      "_view_count": null,
      "_view_module": "@jupyter-widgets/base",
      "_view_module_version": "1.2.0",
      "_view_name": "StyleView",
      "description_width": ""
     }
    },
    "ad8e5cf38f2d4a5a94af71e53499b7b7": {
     "model_module": "@jupyter-widgets/controls",
     "model_name": "HBoxModel",
     "state": {
      "_dom_classes": [],
      "_model_module": "@jupyter-widgets/controls",
      "_model_module_version": "1.5.0",
      "_model_name": "HBoxModel",
      "_view_count": null,
      "_view_module": "@jupyter-widgets/controls",
      "_view_module_version": "1.5.0",
      "_view_name": "HBoxView",
      "box_style": "",
      "children": [
       "IPY_MODEL_ba05b8bd93c1435b97259be770763051",
       "IPY_MODEL_fe20b0b974c7491ebc93f39965e8b8cb"
      ],
      "layout": "IPY_MODEL_5075ae5669ea41aaa00b095678ba0ee3"
     }
    },
    "add1e37c11aa49619fe1b869e9e6e26f": {
     "model_module": "@jupyter-widgets/base",
     "model_name": "LayoutModel",
     "state": {
      "_model_module": "@jupyter-widgets/base",
      "_model_module_version": "1.2.0",
      "_model_name": "LayoutModel",
      "_view_count": null,
      "_view_module": "@jupyter-widgets/base",
      "_view_module_version": "1.2.0",
      "_view_name": "LayoutView",
      "align_content": null,
      "align_items": null,
      "align_self": null,
      "border": null,
      "bottom": null,
      "display": null,
      "flex": null,
      "flex_flow": null,
      "grid_area": null,
      "grid_auto_columns": null,
      "grid_auto_flow": null,
      "grid_auto_rows": null,
      "grid_column": null,
      "grid_gap": null,
      "grid_row": null,
      "grid_template_areas": null,
      "grid_template_columns": null,
      "grid_template_rows": null,
      "height": null,
      "justify_content": null,
      "justify_items": null,
      "left": null,
      "margin": null,
      "max_height": null,
      "max_width": null,
      "min_height": null,
      "min_width": null,
      "object_fit": null,
      "object_position": null,
      "order": null,
      "overflow": null,
      "overflow_x": null,
      "overflow_y": null,
      "padding": null,
      "right": null,
      "top": null,
      "visibility": null,
      "width": null
     }
    },
    "b0a0c54a239f432d944f2b4ccee5a993": {
     "model_module": "@jupyter-widgets/controls",
     "model_name": "FloatProgressModel",
     "state": {
      "_dom_classes": [],
      "_model_module": "@jupyter-widgets/controls",
      "_model_module_version": "1.5.0",
      "_model_name": "FloatProgressModel",
      "_view_count": null,
      "_view_module": "@jupyter-widgets/controls",
      "_view_module_version": "1.5.0",
      "_view_name": "ProgressView",
      "bar_style": "success",
      "description": "100%",
      "description_tooltip": null,
      "layout": "IPY_MODEL_add1e37c11aa49619fe1b869e9e6e26f",
      "max": 800,
      "min": 0,
      "orientation": "horizontal",
      "style": "IPY_MODEL_2df161797e624cae8d7cce1e64a428cb",
      "value": 800
     }
    },
    "ba05b8bd93c1435b97259be770763051": {
     "model_module": "@jupyter-widgets/controls",
     "model_name": "FloatProgressModel",
     "state": {
      "_dom_classes": [],
      "_model_module": "@jupyter-widgets/controls",
      "_model_module_version": "1.5.0",
      "_model_name": "FloatProgressModel",
      "_view_count": null,
      "_view_module": "@jupyter-widgets/controls",
      "_view_module_version": "1.5.0",
      "_view_name": "ProgressView",
      "bar_style": "success",
      "description": "100%",
      "description_tooltip": null,
      "layout": "IPY_MODEL_2e566d7163b64637997322bb8f747502",
      "max": 500,
      "min": 0,
      "orientation": "horizontal",
      "style": "IPY_MODEL_f92d6f8f106a4c54bf1b03941f24ab1b",
      "value": 500
     }
    },
    "bf604a4721284d47bb5ee491e3099a7a": {
     "model_module": "@jupyter-widgets/base",
     "model_name": "LayoutModel",
     "state": {
      "_model_module": "@jupyter-widgets/base",
      "_model_module_version": "1.2.0",
      "_model_name": "LayoutModel",
      "_view_count": null,
      "_view_module": "@jupyter-widgets/base",
      "_view_module_version": "1.2.0",
      "_view_name": "LayoutView",
      "align_content": null,
      "align_items": null,
      "align_self": null,
      "border": null,
      "bottom": null,
      "display": null,
      "flex": null,
      "flex_flow": null,
      "grid_area": null,
      "grid_auto_columns": null,
      "grid_auto_flow": null,
      "grid_auto_rows": null,
      "grid_column": null,
      "grid_gap": null,
      "grid_row": null,
      "grid_template_areas": null,
      "grid_template_columns": null,
      "grid_template_rows": null,
      "height": null,
      "justify_content": null,
      "justify_items": null,
      "left": null,
      "margin": null,
      "max_height": null,
      "max_width": null,
      "min_height": null,
      "min_width": null,
      "object_fit": null,
      "object_position": null,
      "order": null,
      "overflow": null,
      "overflow_x": null,
      "overflow_y": null,
      "padding": null,
      "right": null,
      "top": null,
      "visibility": null,
      "width": null
     }
    },
    "c4be43f13de34e95a70b57fe16f85060": {
     "model_module": "@jupyter-widgets/base",
     "model_name": "LayoutModel",
     "state": {
      "_model_module": "@jupyter-widgets/base",
      "_model_module_version": "1.2.0",
      "_model_name": "LayoutModel",
      "_view_count": null,
      "_view_module": "@jupyter-widgets/base",
      "_view_module_version": "1.2.0",
      "_view_name": "LayoutView",
      "align_content": null,
      "align_items": null,
      "align_self": null,
      "border": null,
      "bottom": null,
      "display": null,
      "flex": null,
      "flex_flow": null,
      "grid_area": null,
      "grid_auto_columns": null,
      "grid_auto_flow": null,
      "grid_auto_rows": null,
      "grid_column": null,
      "grid_gap": null,
      "grid_row": null,
      "grid_template_areas": null,
      "grid_template_columns": null,
      "grid_template_rows": null,
      "height": null,
      "justify_content": null,
      "justify_items": null,
      "left": null,
      "margin": null,
      "max_height": null,
      "max_width": null,
      "min_height": null,
      "min_width": null,
      "object_fit": null,
      "object_position": null,
      "order": null,
      "overflow": null,
      "overflow_x": null,
      "overflow_y": null,
      "padding": null,
      "right": null,
      "top": null,
      "visibility": null,
      "width": null
     }
    },
    "cc43aa2597284cddb5a5981935fba4eb": {
     "model_module": "@jupyter-widgets/controls",
     "model_name": "DescriptionStyleModel",
     "state": {
      "_model_module": "@jupyter-widgets/controls",
      "_model_module_version": "1.5.0",
      "_model_name": "DescriptionStyleModel",
      "_view_count": null,
      "_view_module": "@jupyter-widgets/base",
      "_view_module_version": "1.2.0",
      "_view_name": "StyleView",
      "description_width": ""
     }
    },
    "cd203147986b4b7e9bcdb3595f4eb2f0": {
     "model_module": "@jupyter-widgets/controls",
     "model_name": "HTMLModel",
     "state": {
      "_dom_classes": [],
      "_model_module": "@jupyter-widgets/controls",
      "_model_module_version": "1.5.0",
      "_model_name": "HTMLModel",
      "_view_count": null,
      "_view_module": "@jupyter-widgets/controls",
      "_view_module_version": "1.5.0",
      "_view_name": "HTMLView",
      "description": "",
      "description_tooltip": null,
      "layout": "IPY_MODEL_6431cfab14604b0db2474dbd760f5dcd",
      "placeholder": "​",
      "style": "IPY_MODEL_44c3670e60d14762853ac2e15cef2381",
      "value": " 500/500 [00:17&lt;00:00, 28.20it/s]"
     }
    },
    "edefdc2862c741cfa6e953bdb4a148e7": {
     "model_module": "@jupyter-widgets/controls",
     "model_name": "HTMLModel",
     "state": {
      "_dom_classes": [],
      "_model_module": "@jupyter-widgets/controls",
      "_model_module_version": "1.5.0",
      "_model_name": "HTMLModel",
      "_view_count": null,
      "_view_module": "@jupyter-widgets/controls",
      "_view_module_version": "1.5.0",
      "_view_name": "HTMLView",
      "description": "",
      "description_tooltip": null,
      "layout": "IPY_MODEL_54d9f65453294fd3ba1733ecfa360418",
      "placeholder": "​",
      "style": "IPY_MODEL_25ee0b81be90427fb3bc86137eed9b68",
      "value": " 500/500 [00:17&lt;00:00, 28.38it/s]"
     }
    },
    "ef5fdaa8e1904e739f1d8787174232d9": {
     "model_module": "@jupyter-widgets/base",
     "model_name": "LayoutModel",
     "state": {
      "_model_module": "@jupyter-widgets/base",
      "_model_module_version": "1.2.0",
      "_model_name": "LayoutModel",
      "_view_count": null,
      "_view_module": "@jupyter-widgets/base",
      "_view_module_version": "1.2.0",
      "_view_name": "LayoutView",
      "align_content": null,
      "align_items": null,
      "align_self": null,
      "border": null,
      "bottom": null,
      "display": null,
      "flex": null,
      "flex_flow": null,
      "grid_area": null,
      "grid_auto_columns": null,
      "grid_auto_flow": null,
      "grid_auto_rows": null,
      "grid_column": null,
      "grid_gap": null,
      "grid_row": null,
      "grid_template_areas": null,
      "grid_template_columns": null,
      "grid_template_rows": null,
      "height": null,
      "justify_content": null,
      "justify_items": null,
      "left": null,
      "margin": null,
      "max_height": null,
      "max_width": null,
      "min_height": null,
      "min_width": null,
      "object_fit": null,
      "object_position": null,
      "order": null,
      "overflow": null,
      "overflow_x": null,
      "overflow_y": null,
      "padding": null,
      "right": null,
      "top": null,
      "visibility": null,
      "width": null
     }
    },
    "f48be41e5f85408eb7f964c2e0557a6b": {
     "model_module": "@jupyter-widgets/base",
     "model_name": "LayoutModel",
     "state": {
      "_model_module": "@jupyter-widgets/base",
      "_model_module_version": "1.2.0",
      "_model_name": "LayoutModel",
      "_view_count": null,
      "_view_module": "@jupyter-widgets/base",
      "_view_module_version": "1.2.0",
      "_view_name": "LayoutView",
      "align_content": null,
      "align_items": null,
      "align_self": null,
      "border": null,
      "bottom": null,
      "display": null,
      "flex": null,
      "flex_flow": null,
      "grid_area": null,
      "grid_auto_columns": null,
      "grid_auto_flow": null,
      "grid_auto_rows": null,
      "grid_column": null,
      "grid_gap": null,
      "grid_row": null,
      "grid_template_areas": null,
      "grid_template_columns": null,
      "grid_template_rows": null,
      "height": null,
      "justify_content": null,
      "justify_items": null,
      "left": null,
      "margin": null,
      "max_height": null,
      "max_width": null,
      "min_height": null,
      "min_width": null,
      "object_fit": null,
      "object_position": null,
      "order": null,
      "overflow": null,
      "overflow_x": null,
      "overflow_y": null,
      "padding": null,
      "right": null,
      "top": null,
      "visibility": null,
      "width": null
     }
    },
    "f92d6f8f106a4c54bf1b03941f24ab1b": {
     "model_module": "@jupyter-widgets/controls",
     "model_name": "ProgressStyleModel",
     "state": {
      "_model_module": "@jupyter-widgets/controls",
      "_model_module_version": "1.5.0",
      "_model_name": "ProgressStyleModel",
      "_view_count": null,
      "_view_module": "@jupyter-widgets/base",
      "_view_module_version": "1.2.0",
      "_view_name": "StyleView",
      "bar_color": null,
      "description_width": "initial"
     }
    },
    "fb7d4fb5d11f46c6b8f351a04699d0bb": {
     "model_module": "@jupyter-widgets/controls",
     "model_name": "HBoxModel",
     "state": {
      "_dom_classes": [],
      "_model_module": "@jupyter-widgets/controls",
      "_model_module_version": "1.5.0",
      "_model_name": "HBoxModel",
      "_view_count": null,
      "_view_module": "@jupyter-widgets/controls",
      "_view_module_version": "1.5.0",
      "_view_name": "HBoxView",
      "box_style": "",
      "children": [
       "IPY_MODEL_31e453cac5dc4001a4e812920d44ee28",
       "IPY_MODEL_edefdc2862c741cfa6e953bdb4a148e7"
      ],
      "layout": "IPY_MODEL_c4be43f13de34e95a70b57fe16f85060"
     }
    },
    "fe20b0b974c7491ebc93f39965e8b8cb": {
     "model_module": "@jupyter-widgets/controls",
     "model_name": "HTMLModel",
     "state": {
      "_dom_classes": [],
      "_model_module": "@jupyter-widgets/controls",
      "_model_module_version": "1.5.0",
      "_model_name": "HTMLModel",
      "_view_count": null,
      "_view_module": "@jupyter-widgets/controls",
      "_view_module_version": "1.5.0",
      "_view_name": "HTMLView",
      "description": "",
      "description_tooltip": null,
      "layout": "IPY_MODEL_f48be41e5f85408eb7f964c2e0557a6b",
      "placeholder": "​",
      "style": "IPY_MODEL_cc43aa2597284cddb5a5981935fba4eb",
      "value": " 500/500 [00:17&lt;00:00, 28.55it/s]"
     }
    }
   }
  }
 },
 "nbformat": 4,
 "nbformat_minor": 1
}
